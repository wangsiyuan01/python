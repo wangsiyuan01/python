{
 "cells": [
  {
   "cell_type": "markdown",
   "id": "7385c2f4",
   "metadata": {},
   "source": [
    "# python 基础复习"
   ]
  },
  {
   "cell_type": "markdown",
   "id": "c874f8f1",
   "metadata": {},
   "source": [
    "### 共分为几个部分\n",
    "1. 基础语法需要注意的地方\n",
    "2. 常用的变量类型\n",
    "3. 运算符\n",
    "4. 循环和条件运算\n",
    "5. 各个字符类型的模块学习\n",
    "6. 函数\n",
    "7. 文件\n",
    "8. 高级进阶\n",
    "\n",
    "-------"
   ]
  },
  {
   "cell_type": "markdown",
   "id": "cb4ffb59",
   "metadata": {},
   "source": [
    "# 1、基础语法注意的点"
   ]
  },
  {
   "cell_type": "markdown",
   "id": "49c2c97f",
   "metadata": {},
   "source": [
    "### * 关于注释"
   ]
  },
  {
   "cell_type": "code",
   "execution_count": 2,
   "id": "77734252",
   "metadata": {},
   "outputs": [
    {
     "name": "stdout",
     "output_type": "stream",
     "text": [
      "上面是一个单行注释，不运行\n"
     ]
    }
   ],
   "source": [
    "# 使用 # 是单行注释\n",
    "print(\"上面是一个单行注释，不运行\")"
   ]
  },
  {
   "cell_type": "code",
   "execution_count": 7,
   "id": "aa6c9954",
   "metadata": {},
   "outputs": [
    {
     "name": "stdout",
     "output_type": "stream",
     "text": [
      "上面是一个多行注释，不运行\n"
     ]
    }
   ],
   "source": [
    "\"\"\"\n",
    "使用英文格式，三个单引号说或者双引号\n",
    "\n",
    "则是多行注释\n",
    "\"\"\"\n",
    "\n",
    "'''\n",
    "使用英文格式，三个单引号说或者双引号\n",
    "\n",
    "则是多行注释\n",
    "'''\n",
    "\n",
    "print(\"上面是一个多行注释，不运行\")"
   ]
  },
  {
   "cell_type": "markdown",
   "id": "3c337666",
   "metadata": {},
   "source": [
    "### * 关于缩进 Python代码对缩进的要求非常严格，"
   ]
  },
  {
   "cell_type": "code",
   "execution_count": 11,
   "id": "56cf1f09",
   "metadata": {},
   "outputs": [
    {
     "ename": "SyntaxError",
     "evalue": "invalid syntax (1851624080.py, line 10)",
     "output_type": "error",
     "traceback": [
      "\u001b[0;36m  File \u001b[0;32m\"/var/folders/dg/dyx6h6tx5q32mzmqz2w8q23c0000gn/T/ipykernel_3401/1851624080.py\"\u001b[0;36m, line \u001b[0;32m10\u001b[0m\n\u001b[0;31m    else:\u001b[0m\n\u001b[0m    ^\u001b[0m\n\u001b[0;31mSyntaxError\u001b[0m\u001b[0;31m:\u001b[0m invalid syntax\n"
     ]
    }
   ],
   "source": [
    "# 缩进严格例子\n",
    "if True:\n",
    "    print('first tab')\n",
    "    \n",
    "    if True:\n",
    "        print('secont tab')\n",
    "    else:\n",
    "        print('second tab')\n",
    "        \n",
    "    #这个地方没有和第一个if 对齐，所以报错，对齐后则不报错\n",
    "    else:\n",
    "        print('first tab')"
   ]
  },
  {
   "cell_type": "markdown",
   "id": "b0610eb3",
   "metadata": {},
   "source": [
    "### * 关于Python中的关键字不能做变量问题"
   ]
  },
  {
   "cell_type": "code",
   "execution_count": 14,
   "id": "66932273",
   "metadata": {},
   "outputs": [
    {
     "data": {
      "text/plain": [
       "12"
      ]
     },
     "execution_count": 14,
     "metadata": {},
     "output_type": "execute_result"
    }
   ],
   "source": [
    "# python 里面关键字都是小写的 例如： if else while return for from or not 等等\n",
    "\n",
    "# 这些关键词，如果改成大写则不起作用，另外，在命名变量时，一定避开关键词，避免不必要的麻烦\n",
    "\n",
    "#如 定义变量的时候：\n",
    "\n",
    "# return = 12\n",
    "\n",
    "#上面的写法是不可以的，因为return是关键词，又叫保留词，不可以用作变量，但是，Return 是可以的\n",
    "\n",
    "Return = 12\n",
    "\n",
    "Return\n",
    "\n",
    "#但是依旧不建议这样去命名，会影响阅读，可以用 returnValue 这样的组合词。\n"
   ]
  },
  {
   "cell_type": "markdown",
   "id": "2ef100d2",
   "metadata": {},
   "source": [
    "# 2、常用的变量类型 "
   ]
  },
  {
   "cell_type": "markdown",
   "id": "e536864b",
   "metadata": {},
   "source": [
    "### * 数字"
   ]
  },
  {
   "cell_type": "code",
   "execution_count": 35,
   "id": "49ab704a",
   "metadata": {},
   "outputs": [
    {
     "data": {
      "text/plain": [
       "int"
      ]
     },
     "execution_count": 35,
     "metadata": {},
     "output_type": "execute_result"
    }
   ],
   "source": [
    "var1 = int()\n",
    "var1 = 12\n",
    "var1\n",
    "type(var1)"
   ]
  },
  {
   "cell_type": "code",
   "execution_count": 38,
   "id": "f6e85f68",
   "metadata": {},
   "outputs": [
    {
     "data": {
      "text/plain": [
       "['__abs__',\n",
       " '__add__',\n",
       " '__and__',\n",
       " '__bool__',\n",
       " '__ceil__',\n",
       " '__class__',\n",
       " '__delattr__',\n",
       " '__dir__',\n",
       " '__divmod__',\n",
       " '__doc__',\n",
       " '__eq__',\n",
       " '__float__',\n",
       " '__floor__',\n",
       " '__floordiv__',\n",
       " '__format__',\n",
       " '__ge__',\n",
       " '__getattribute__',\n",
       " '__getnewargs__',\n",
       " '__gt__',\n",
       " '__hash__',\n",
       " '__index__',\n",
       " '__init__',\n",
       " '__init_subclass__',\n",
       " '__int__',\n",
       " '__invert__',\n",
       " '__le__',\n",
       " '__lshift__',\n",
       " '__lt__',\n",
       " '__mod__',\n",
       " '__mul__',\n",
       " '__ne__',\n",
       " '__neg__',\n",
       " '__new__',\n",
       " '__or__',\n",
       " '__pos__',\n",
       " '__pow__',\n",
       " '__radd__',\n",
       " '__rand__',\n",
       " '__rdivmod__',\n",
       " '__reduce__',\n",
       " '__reduce_ex__',\n",
       " '__repr__',\n",
       " '__rfloordiv__',\n",
       " '__rlshift__',\n",
       " '__rmod__',\n",
       " '__rmul__',\n",
       " '__ror__',\n",
       " '__round__',\n",
       " '__rpow__',\n",
       " '__rrshift__',\n",
       " '__rshift__',\n",
       " '__rsub__',\n",
       " '__rtruediv__',\n",
       " '__rxor__',\n",
       " '__setattr__',\n",
       " '__sizeof__',\n",
       " '__str__',\n",
       " '__sub__',\n",
       " '__subclasshook__',\n",
       " '__truediv__',\n",
       " '__trunc__',\n",
       " '__xor__',\n",
       " 'as_integer_ratio',\n",
       " 'bit_length',\n",
       " 'conjugate',\n",
       " 'denominator',\n",
       " 'from_bytes',\n",
       " 'imag',\n",
       " 'numerator',\n",
       " 'real',\n",
       " 'to_bytes']"
      ]
     },
     "execution_count": 38,
     "metadata": {},
     "output_type": "execute_result"
    }
   ],
   "source": [
    "# dir()函数不带参数时，返回当前范围内的变量、方法和定义的类型列表；带参数时，返回参数的属性、方法列表\n",
    "dir(var1)"
   ]
  },
  {
   "cell_type": "code",
   "execution_count": 41,
   "id": "dfdb0f84",
   "metadata": {},
   "outputs": [
    {
     "data": {
      "text/plain": [
       "False"
      ]
     },
     "execution_count": 41,
     "metadata": {},
     "output_type": "execute_result"
    }
   ],
   "source": [
    "#举例 __eq__() 判断两个数是否相等\n",
    "result = var1.__eq__(14)\n",
    "result"
   ]
  },
  {
   "cell_type": "code",
   "execution_count": 43,
   "id": "3f9d0173",
   "metadata": {},
   "outputs": [
    {
     "data": {
      "text/plain": [
       "float"
      ]
     },
     "execution_count": 43,
     "metadata": {},
     "output_type": "execute_result"
    }
   ],
   "source": [
    "#浮点型\n",
    "var2 = 12.32\n",
    "type(var2)"
   ]
  },
  {
   "cell_type": "code",
   "execution_count": 44,
   "id": "349646df",
   "metadata": {},
   "outputs": [
    {
     "data": {
      "text/plain": [
       "complex"
      ]
     },
     "execution_count": 44,
     "metadata": {},
     "output_type": "execute_result"
    }
   ],
   "source": [
    "#复数\n",
    "var3 = 12j\n",
    "type(var3)"
   ]
  },
  {
   "cell_type": "code",
   "execution_count": 47,
   "id": "19383d3f",
   "metadata": {},
   "outputs": [
    {
     "ename": "SyntaxError",
     "evalue": "invalid syntax (2803440592.py, line 2)",
     "output_type": "error",
     "traceback": [
      "\u001b[0;36m  File \u001b[0;32m\"/var/folders/dg/dyx6h6tx5q32mzmqz2w8q23c0000gn/T/ipykernel_3401/2803440592.py\"\u001b[0;36m, line \u001b[0;32m2\u001b[0m\n\u001b[0;31m    var4 = 123L\u001b[0m\n\u001b[0m              ^\u001b[0m\n\u001b[0;31mSyntaxError\u001b[0m\u001b[0;31m:\u001b[0m invalid syntax\n"
     ]
    }
   ],
   "source": [
    "#python3 里面没有长整型了，所以定义长整型会报错,pyton2是可以的\n",
    "var4 = 123L"
   ]
  },
  {
   "cell_type": "code",
   "execution_count": 48,
   "id": "0ab75d58",
   "metadata": {},
   "outputs": [],
   "source": [
    "#以上类型都可以用dir() 方法去查看属性和方法列表，不一一赘述"
   ]
  },
  {
   "cell_type": "markdown",
   "id": "40b067f1",
   "metadata": {},
   "source": [
    "### * 字符串"
   ]
  },
  {
   "cell_type": "code",
   "execution_count": 50,
   "id": "1bcb8b45",
   "metadata": {},
   "outputs": [
    {
     "data": {
      "text/plain": [
       "str"
      ]
     },
     "execution_count": 50,
     "metadata": {},
     "output_type": "execute_result"
    }
   ],
   "source": [
    "#定义一个字符串\n",
    "string1 = \"asfadfaf\"\n",
    "type(string1)"
   ]
  },
  {
   "cell_type": "code",
   "execution_count": 58,
   "id": "f7624812",
   "metadata": {},
   "outputs": [
    {
     "data": {
      "text/plain": [
       "str"
      ]
     },
     "execution_count": 58,
     "metadata": {},
     "output_type": "execute_result"
    }
   ],
   "source": [
    "# 单引号也可以\n",
    "string2 = 'sadfafd'\n",
    "type(string2)"
   ]
  },
  {
   "cell_type": "code",
   "execution_count": 64,
   "id": "5e2e9378",
   "metadata": {},
   "outputs": [
    {
     "data": {
      "text/plain": [
       "str"
      ]
     },
     "execution_count": 64,
     "metadata": {},
     "output_type": "execute_result"
    }
   ],
   "source": [
    "# 三引号也可以\n",
    "string3 = '''wowowo'''\n",
    "string4 = \"\"\"sdfasdfasfda\"\"\"\n",
    "type(string3)"
   ]
  },
  {
   "cell_type": "code",
   "execution_count": 62,
   "id": "e2eb1488",
   "metadata": {},
   "outputs": [
    {
     "name": "stdout",
     "output_type": "stream",
     "text": [
      "asfadfaf sadfafd wowowo sdfasdfasfda\n"
     ]
    }
   ],
   "source": [
    "print(string1,string2,string3,string4)"
   ]
  },
  {
   "cell_type": "code",
   "execution_count": 68,
   "id": "b30d8e0c",
   "metadata": {},
   "outputs": [
    {
     "name": "stdout",
     "output_type": "stream",
     "text": [
      "str1: python\n",
      "str2: \"python\"\n",
      "str3: 'python'\n",
      "str4: python\n",
      "str5: \"python\"\n",
      "str6: hello\n",
      "python\n",
      "str7: hello\n",
      "python\n"
     ]
    }
   ],
   "source": [
    "#单引号\n",
    "str1='python'\n",
    "#单引号中使用双引号\n",
    "str2='\"python\"'\n",
    "#双引号中使用单引号\n",
    "str3=\"'python'\"\n",
    "#三单引号\n",
    "str4='''python'''\n",
    "#三单引号中间使用双引号\n",
    "str5='''\"python\"'''\n",
    "#三单引号中有换行符\n",
    "str6='''hello\n",
    "python'''\n",
    "#三双引号中有换行符\n",
    "str7=\"\"\"hello\n",
    "python\"\"\"\n",
    "\n",
    "#str.format() 方法 字符串格式化方法，用str1来替换{0}\n",
    "print(\"str1: {0}\".format(str1))\n",
    "print(\"str2: {0}\".format(str2))\n",
    "print(\"str3: {0}\".format(str3))\n",
    "print(\"str4: {0}\".format(str4))\n",
    "print(\"str5: {0}\".format(str5))\n",
    "print(\"str6: {0}\".format(str6))\n",
    "print(\"str7: {0}\".format(str6))"
   ]
  },
  {
   "cell_type": "markdown",
   "id": "6bc8fde0",
   "metadata": {},
   "source": [
    "结论：\n",
    "\n",
    "（1）单引号中可以使用双引号，中间的会当作字符串输出\n",
    "\n",
    "（2）双引号中可以使用单引号，中间的会当作字符串输出\n",
    "\n",
    "（3）三单引号和三双引号中间的字符串在输出时保持原来的格式。\n"
   ]
  },
  {
   "cell_type": "code",
   "execution_count": 70,
   "id": "c4bcdf45",
   "metadata": {},
   "outputs": [
    {
     "data": {
      "text/plain": [
       "'a'"
      ]
     },
     "execution_count": 70,
     "metadata": {},
     "output_type": "execute_result"
    }
   ],
   "source": [
    "#字符串的截取\n",
    "#输出第一个字符\n",
    "string1[0]"
   ]
  },
  {
   "cell_type": "code",
   "execution_count": 71,
   "id": "8330e636",
   "metadata": {},
   "outputs": [
    {
     "data": {
      "text/plain": [
       "'asf'"
      ]
     },
     "execution_count": 71,
     "metadata": {},
     "output_type": "execute_result"
    }
   ],
   "source": [
    "#输出第1到第4个字符\n",
    "string1[0:3]"
   ]
  },
  {
   "cell_type": "code",
   "execution_count": 73,
   "id": "5080d485",
   "metadata": {},
   "outputs": [
    {
     "data": {
      "text/plain": [
       "'sfadfaf'"
      ]
     },
     "execution_count": 73,
     "metadata": {},
     "output_type": "execute_result"
    }
   ],
   "source": [
    "#输出从第2个开始以后的字符\n",
    "string1[1:]"
   ]
  },
  {
   "cell_type": "code",
   "execution_count": 79,
   "id": "7ed01915",
   "metadata": {},
   "outputs": [
    {
     "data": {
      "text/plain": [
       "'asfadfafasfadfaf'"
      ]
     },
     "execution_count": 79,
     "metadata": {},
     "output_type": "execute_result"
    }
   ],
   "source": [
    "#输出字符串两次\n",
    "string1 *2"
   ]
  },
  {
   "cell_type": "code",
   "execution_count": 82,
   "id": "8f8d5bfa",
   "metadata": {},
   "outputs": [
    {
     "data": {
      "text/plain": [
       "'asfadfafwowowo'"
      ]
     },
     "execution_count": 82,
     "metadata": {},
     "output_type": "execute_result"
    }
   ],
   "source": [
    "#字符串拼接\n",
    "string1 + string3\n"
   ]
  },
  {
   "cell_type": "markdown",
   "id": "0a7486ab",
   "metadata": {},
   "source": [
    "### * python 列表 list"
   ]
  },
  {
   "cell_type": "markdown",
   "id": "bc616bb8",
   "metadata": {},
   "source": [
    "\n",
    "List（列表） 是 Python 中使用最频繁的数据类型。\n",
    "\n",
    "列表可以完成大多数集合类的数据结构实现。它支持字符，数字，字符串甚至可以包含列表（即嵌套）。\n",
    "\n",
    "列表用 []标识，是 python 最通用的复合数据类型。\n",
    "\n",
    "列表中值的切割也可以用到变量 [头下标:尾下标] ，就可以截取相应的列表，从左到右索引默认 0 开始，从右到左索引默认 -1 开始，下标可以为空表示取到头或尾。\n"
   ]
  },
  {
   "cell_type": "code",
   "execution_count": 97,
   "id": "86659cfb",
   "metadata": {},
   "outputs": [
    {
     "name": "stdout",
     "output_type": "stream",
     "text": [
      "['runoob', 786, 2.23, 'john', 70.2]\n",
      "runoob\n",
      "[786, 2.23]\n",
      "[2.23, 'john', 70.2]\n",
      "[123, 'john', 123, 'john']\n",
      "['runoob', 786, 2.23, 'john', 70.2, 123, 'john']\n"
     ]
    }
   ],
   "source": [
    "list1 = [ 'runoob', 786 , 2.23, 'john', 70.2 ]\n",
    "tinylist = [123, 'john']\n",
    " \n",
    "print(list1)             # 输出完整列表\n",
    "print(list1[0])          # 输出列表的第一个元素\n",
    "print(list1[1:3])        # 输出第二个至第三个元素 \n",
    "print(list1[2:])         # 输出从第三个开始至列表末尾的所有元素\n",
    "print(tinylist * 2)      # 输出列表两次\n",
    "print(list1 + tinylist)  # 打印组合的列表"
   ]
  },
  {
   "cell_type": "markdown",
   "id": "8b0a545b",
   "metadata": {},
   "source": [
    "### * python元组 "
   ]
  },
  {
   "cell_type": "markdown",
   "id": "18cd06b3",
   "metadata": {},
   "source": [
    "元组是另一个数据类型，类似于 List（列表）。\n",
    "\n",
    "元组用 () 标识。内部元素用逗号隔开。但是元组不能二次赋值，相当于只读列表。"
   ]
  },
  {
   "cell_type": "code",
   "execution_count": 113,
   "id": "8f572bd6",
   "metadata": {},
   "outputs": [
    {
     "name": "stdout",
     "output_type": "stream",
     "text": [
      "('runoob', 786, 2.23, 'john', 70.2)\n",
      "runoob\n",
      "(786, 2.23)\n",
      "(2.23, 'john', 70.2)\n",
      "(123, 'john', 123, 'john')\n",
      "('runoob', 786, 2.23, 'john', 70.2, 123, 'john')\n"
     ]
    }
   ],
   "source": [
    "tuple1 = ( 'runoob', 786 , 2.23, 'john', 70.2 )\n",
    "tinytuple = (123, 'john')\n",
    " \n",
    "print(tuple1)                # 输出完整元组\n",
    "print(tuple1[0])             # 输出元组的第一个元素\n",
    "print(tuple1[1:3])           # 输出第二个至第四个（不包含）的元素 \n",
    "print(tuple1[2:])            # 输出从第三个开始至列表末尾的所有元素\n",
    "print(tinytuple * 2)        # 输出元组两次\n",
    "print(tuple1 + tinytuple)    # 打印组合的元组"
   ]
  },
  {
   "cell_type": "code",
   "execution_count": 114,
   "id": "7ace3795",
   "metadata": {},
   "outputs": [
    {
     "ename": "TypeError",
     "evalue": "'tuple' object does not support item assignment",
     "output_type": "error",
     "traceback": [
      "\u001b[0;31m---------------------------------------------------------------------------\u001b[0m",
      "\u001b[0;31mTypeError\u001b[0m                                 Traceback (most recent call last)",
      "\u001b[0;32m/var/folders/dg/dyx6h6tx5q32mzmqz2w8q23c0000gn/T/ipykernel_3401/677032192.py\u001b[0m in \u001b[0;36m<module>\u001b[0;34m\u001b[0m\n\u001b[1;32m      1\u001b[0m \u001b[0;31m#不允许更改其中的元素\u001b[0m\u001b[0;34m\u001b[0m\u001b[0;34m\u001b[0m\u001b[0;34m\u001b[0m\u001b[0m\n\u001b[0;32m----> 2\u001b[0;31m \u001b[0mtuple1\u001b[0m\u001b[0;34m[\u001b[0m\u001b[0;36m2\u001b[0m\u001b[0;34m]\u001b[0m \u001b[0;34m=\u001b[0m \u001b[0;36m13\u001b[0m\u001b[0;34m\u001b[0m\u001b[0;34m\u001b[0m\u001b[0m\n\u001b[0m\u001b[1;32m      3\u001b[0m \u001b[0mtuple1\u001b[0m\u001b[0;34m\u001b[0m\u001b[0;34m\u001b[0m\u001b[0m\n",
      "\u001b[0;31mTypeError\u001b[0m: 'tuple' object does not support item assignment"
     ]
    }
   ],
   "source": [
    "#不允许更改其中的元素\n",
    "tuple1[2] = 13\n",
    "tuple1"
   ]
  },
  {
   "cell_type": "code",
   "execution_count": 115,
   "id": "9ffd0d73",
   "metadata": {},
   "outputs": [
    {
     "data": {
      "text/plain": [
       "('oob', 6, 23, 'bob', 0.2)"
      ]
     },
     "execution_count": 115,
     "metadata": {},
     "output_type": "execute_result"
    }
   ],
   "source": [
    "#但是可以被覆盖\n",
    "tuple1 = ( 'oob', 6 , 23, 'bob', 0.2 )\n",
    "tuple1"
   ]
  },
  {
   "cell_type": "code",
   "execution_count": 119,
   "id": "86d2cb02",
   "metadata": {},
   "outputs": [
    {
     "name": "stdout",
     "output_type": "stream",
     "text": [
      "('sadf', 234, ('sdf', 0.097))\n"
     ]
    },
    {
     "data": {
      "text/plain": [
       "tuple"
      ]
     },
     "execution_count": 119,
     "metadata": {},
     "output_type": "execute_result"
    }
   ],
   "source": [
    "#可以嵌套\n",
    "tuple2 = ('sadf',234,('sdf',0.097))\n",
    "print(tuple2)\n",
    "type(tuple2[2])"
   ]
  },
  {
   "cell_type": "markdown",
   "id": "bc20b1db",
   "metadata": {},
   "source": [
    "### * pythn 字典 dictionary"
   ]
  },
  {
   "cell_type": "markdown",
   "id": "80ecb5e3",
   "metadata": {},
   "source": [
    "字典(dictionary)是除列表以外python之中最灵活的内置数据结构类型。列表是有序的对象集合，字典是无序的对象集合。\n",
    "\n",
    "两者之间的区别在于：字典当中的元素是通过键来存取的，而不是通过偏移存取。\n",
    "\n",
    "字典用\"{ }\"标识。字典由索引(key)和它对应的值value组成。\n",
    "\n",
    "PS: dic 同样是可以嵌套的"
   ]
  },
  {
   "cell_type": "code",
   "execution_count": 122,
   "id": "a79e62fe",
   "metadata": {},
   "outputs": [
    {
     "name": "stdout",
     "output_type": "stream",
     "text": [
      "{'one': 'This is one', 2: 'This is two'}\n",
      "This is one\n",
      "This is two\n",
      "{'name': 'runoob', 'code': 6734, 'dept': 'sales'}\n",
      "dict_keys(['name', 'code', 'dept'])\n",
      "dict_values(['runoob', 6734, 'sales'])\n"
     ]
    }
   ],
   "source": [
    "dict1 = {}\n",
    "dict1['one'] = \"This is one\"\n",
    "dict1[2] = \"This is two\"\n",
    " \n",
    "tinydict = {'name': 'runoob','code':6734, 'dept': 'sales'}\n",
    "\n",
    "print(dict1)                 # 输出dict1\n",
    "print(dict1['one'])          # 输出键为'one' 的值\n",
    "print(dict1[2])              # 输出键为 2 的值\n",
    "print(tinydict)              # 输出完整的字典\n",
    "print(tinydict.keys())       # 输出所有键\n",
    "print(tinydict.values())     # 输出所有值"
   ]
  },
  {
   "cell_type": "markdown",
   "id": "b9c9fa2e",
   "metadata": {},
   "source": [
    "##### [tuple list dictionary set 区别和使用可看这个博客](https://www.cnblogs.com/jfl-xx/p/7115854.html)"
   ]
  },
  {
   "cell_type": "markdown",
   "id": "f2c804bf",
   "metadata": {},
   "source": [
    "# 3、运算符"
   ]
  },
  {
   "cell_type": "markdown",
   "id": "d32a77bb",
   "metadata": {},
   "source": [
    "###  * 关于运算符需要注意的几个点"
   ]
  },
  {
   "cell_type": "code",
   "execution_count": 38,
   "id": "e17161b5",
   "metadata": {},
   "outputs": [
    {
     "name": "stdout",
     "output_type": "stream",
     "text": [
      "False\n",
      "True\n"
     ]
    }
   ],
   "source": [
    "# python 里面的’与‘ 和  ’或‘  ’非‘ ，运算用的是 and / or / not\n",
    "\n",
    "a = 1 \n",
    "b = 0 \n",
    "if a and b :\n",
    "    print(True)\n",
    "else:\n",
    "    print(False)\n",
    "    \n",
    "if not(a and b ):\n",
    "    print(True)\n",
    "else :\n",
    "    print(False)"
   ]
  },
  {
   "cell_type": "code",
   "execution_count": 2,
   "id": "0d1f009f",
   "metadata": {},
   "outputs": [
    {
     "name": "stdout",
     "output_type": "stream",
     "text": [
      "True\n"
     ]
    }
   ],
   "source": [
    "if a or b :\n",
    "    print(True)\n",
    "else:\n",
    "    print(False)"
   ]
  },
  {
   "cell_type": "code",
   "execution_count": 16,
   "id": "dbdc8b16",
   "metadata": {},
   "outputs": [
    {
     "name": "stdout",
     "output_type": "stream",
     "text": [
      "True\n",
      "True\n"
     ]
    }
   ],
   "source": [
    "# is 和 == 的区别：is 用于判断两个变量引用对象是否为同一个(同一块内存空间)， == 用于判断引用变量的值是否相等。\n",
    "# 那么同样的 is not 和  != 也是一样的道理\n",
    "\n",
    "a = 12\n",
    "b = a \n",
    "if b is a :\n",
    "    print(True)\n",
    "else :\n",
    "    print(False)\n",
    "\n",
    "if a == b :\n",
    "    print(True)\n",
    "else :\n",
    "    print(False)"
   ]
  },
  {
   "cell_type": "code",
   "execution_count": 35,
   "id": "9c80fa64",
   "metadata": {},
   "outputs": [
    {
     "name": "stdout",
     "output_type": "stream",
     "text": [
      "4376685200 4376685200\n",
      "False\n",
      "True\n",
      "False\n"
     ]
    }
   ],
   "source": [
    "#注意，如果这里直接给c赋值12，为了节省内存，python 会自动将a 的地址指向 c\n",
    "d = 12\n",
    "print(id(a),id(d))\n",
    "#所以给c赋值时改变其类型，就可以分配内存\n",
    "c = 12.00\n",
    "if c is a :\n",
    "    print(True)\n",
    "else :\n",
    "    print(False)\n",
    "\n",
    "# 这里同样也说明了，== 只校验值的大小，而不会校验数据类型\n",
    "if c == a :\n",
    "    print(True)\n",
    "else :\n",
    "    print(False)\n",
    "\n",
    "# 所以如果想同时校验两个变量的值 和类型的话，就要使用type 函数或其他方法\n",
    "if c == a and type(c) == type(a) :\n",
    "    print(True)\n",
    "else :\n",
    "    print(False)"
   ]
  },
  {
   "cell_type": "code",
   "execution_count": 27,
   "id": "40fdd4c9",
   "metadata": {},
   "outputs": [
    {
     "name": "stdout",
     "output_type": "stream",
     "text": [
      "4518671872 4518671872\n",
      "4518671872 4518537664\n",
      "<class 'list'> <class 'list'>\n",
      "[32, 12, 3, 12, 3] [32, 12, 3, 12, 3]\n",
      "False\n"
     ]
    }
   ],
   "source": [
    "# 哪怕是变量的值和类型一模一样，分配的内存不一样，用 is 判断也是 False\n",
    "m = [32,12,3,12,3]\n",
    "n = m\n",
    "print(id(m),id(n))\n",
    "n = m[:]\n",
    "print(id(m),id(n))\n",
    "print(type(m),type(n))\n",
    "print(m,n)\n",
    "print(m is n)"
   ]
  },
  {
   "cell_type": "code",
   "execution_count": 33,
   "id": "0e564790",
   "metadata": {},
   "outputs": [
    {
     "name": "stdout",
     "output_type": "stream",
     "text": [
      " 只校验值\n",
      "还校验地址\n"
     ]
    }
   ],
   "source": [
    "list1 = [12,12,3,4,3]\n",
    "list2 = [12.00,12,3,4,3]\n",
    "if list1 == list2 :\n",
    "    print(' 只校验值')\n",
    "else :\n",
    "    print(\"还校验地址\")\n",
    "    \n",
    "if list1 is list2 :\n",
    "    print('不校验类型')\n",
    "else :\n",
    "    print(\"还校验地址\")"
   ]
  },
  {
   "cell_type": "code",
   "execution_count": 37,
   "id": "839beef3",
   "metadata": {},
   "outputs": [
    {
     "data": {
      "text/plain": [
       "2"
      ]
     },
     "execution_count": 37,
     "metadata": {},
     "output_type": "execute_result"
    }
   ],
   "source": [
    "# 在python 是没有 ++ 自加运算符的，一般用 += 来替代，其他的 *=  /=  -= 都是一样的用法\n",
    "a = 1\n",
    "a +=1\n",
    "a"
   ]
  },
  {
   "cell_type": "markdown",
   "id": "d92f668e",
   "metadata": {},
   "source": [
    "以上便是运算符，在实际编程中，需要注意运算符的优先级，不记得要看手册，否则会出现不必要的bug"
   ]
  },
  {
   "cell_type": "markdown",
   "id": "6ec2ef1b",
   "metadata": {},
   "source": [
    "# 4、循环 和 条件运算"
   ]
  },
  {
   "cell_type": "code",
   "execution_count": 39,
   "id": "553b2c83",
   "metadata": {},
   "outputs": [],
   "source": [
    "# 在python 里面 条件运算就是 if else  ，别的语言里面还有switch，但是Python里面没有\n",
    "# if else 没有什么好说的，注意是嵌套时一定要注意缩进对齐"
   ]
  },
  {
   "cell_type": "code",
   "execution_count": 41,
   "id": "f3c244c2",
   "metadata": {},
   "outputs": [
    {
     "name": "stdout",
     "output_type": "stream",
     "text": [
      "b小于3\n",
      "0\n",
      "b小于3\n",
      "1\n",
      "b小于3\n",
      "2\n",
      "b > 3\n"
     ]
    }
   ],
   "source": [
    "#循环  有 for while以及二者的嵌套\n",
    "#需要注意的是，while 一般是用来做算数运算条件的循环，如：\n",
    "a = 3\n",
    "b = 0 \n",
    "while a > b :\n",
    "    print('b小于3')\n",
    "    print(b)\n",
    "    b +=1\n",
    "else:\n",
    "    print('b > 3')"
   ]
  },
  {
   "cell_type": "code",
   "execution_count": 45,
   "id": "a515b5e1",
   "metadata": {},
   "outputs": [
    {
     "name": "stdout",
     "output_type": "stream",
     "text": [
      "P\n",
      "y\n",
      "t\n",
      "h\n",
      "o\n",
      "n\n"
     ]
    }
   ],
   "source": [
    "# 而for 则是是用来遍历一个集合的（包括字符串）\n",
    "for letter in 'Python':\n",
    "    print(letter)"
   ]
  },
  {
   "cell_type": "code",
   "execution_count": 46,
   "id": "280b06b6",
   "metadata": {},
   "outputs": [
    {
     "name": "stdout",
     "output_type": "stream",
     "text": [
      "12\n",
      "2\n",
      "3\n",
      "23\n",
      "4\n",
      "6\n"
     ]
    }
   ],
   "source": [
    "list = [12,2,3,23,4,6]\n",
    "for item in list :\n",
    "    print(item)"
   ]
  },
  {
   "cell_type": "code",
   "execution_count": 48,
   "id": "dc0aca38",
   "metadata": {},
   "outputs": [
    {
     "name": "stdout",
     "output_type": "stream",
     "text": [
      "10 等于 2 * 5\n",
      "11 是一个质数\n",
      "12 等于 2 * 6\n",
      "13 是一个质数\n",
      "14 等于 2 * 7\n"
     ]
    }
   ],
   "source": [
    "# 在 python 中，for … else 表示这样的意思，for 中的语句和普通的没有区别，else 中的语句会在循环正常执行完\n",
    "#（即 for 不是通过 break 跳出而中断的）的情况下执行，while … else 也是一样。\n",
    "for num in range(10,15):  # 迭代 10 到 15 之间的数字\n",
    "   for i in range(2,num): # 根据因子迭代\n",
    "      if num%i == 0:      # 确定第一个因子\n",
    "         j=num/i          # 计算第二个因子\n",
    "         print ('%d 等于 %d * %d' % (num,i,j))\n",
    "         break            # 跳出当前循环\n",
    "   else:                  # 循环的 else 部分\n",
    "      print ('%d 是一个质数' % num)"
   ]
  },
  {
   "cell_type": "code",
   "execution_count": 50,
   "id": "b623034e",
   "metadata": {},
   "outputs": [],
   "source": [
    "# break continue pass\n",
    "\n",
    "\n",
    "#break 在语句块执行过程中终止循环，并且跳出整个循环\n",
    "\n",
    "#continue 在语句块执行过程中终止当前循环，跳出该次循环，执行下一次循环\n",
    "\n",
    "#pass pass是空语句，是为了保持程序结构的完整性。\n"
   ]
  },
  {
   "cell_type": "markdown",
   "id": "8faff9ac",
   "metadata": {},
   "source": [
    "# 5、字符类型模块学习 "
   ]
  },
  {
   "cell_type": "markdown",
   "id": "a97d9153",
   "metadata": {},
   "source": [
    "### 字符串 "
   ]
  },
  {
   "cell_type": "code",
   "execution_count": 57,
   "id": "07d9a04d",
   "metadata": {},
   "outputs": [
    {
     "name": "stdout",
     "output_type": "stream",
     "text": [
      "-1\n",
      "6\n",
      "6\n",
      "-1\n"
     ]
    }
   ],
   "source": [
    "#find() 检测字符串是否包含，返回该字符串位置，如果不包含返回-1\n",
    "str1 = 'Hello World'\n",
    "print(str1.find('R'))\n",
    "print(str1.find('W'))\n",
    "print(str1.find('World'))\n",
    "print(str1.find('Word'))"
   ]
  },
  {
   "cell_type": "code",
   "execution_count": 59,
   "id": "1a5ea528",
   "metadata": {},
   "outputs": [
    {
     "data": {
      "text/plain": [
       "11"
      ]
     },
     "execution_count": 59,
     "metadata": {},
     "output_type": "execute_result"
    }
   ],
   "source": [
    "#len() 返回字符串长度,以0开始计算\n",
    "len(str1)"
   ]
  },
  {
   "cell_type": "code",
   "execution_count": 62,
   "id": "26ab9c81",
   "metadata": {},
   "outputs": [
    {
     "data": {
      "text/plain": [
       "'Hey World'"
      ]
     },
     "execution_count": 62,
     "metadata": {},
     "output_type": "execute_result"
    }
   ],
   "source": [
    "#replace() 替换字符串\n",
    "str1.replace('Hello','Hey')"
   ]
  },
  {
   "cell_type": "code",
   "execution_count": 63,
   "id": "335e9c53",
   "metadata": {},
   "outputs": [
    {
     "data": {
      "text/plain": [
       "['123', '34', '88', '234']"
      ]
     },
     "execution_count": 63,
     "metadata": {},
     "output_type": "execute_result"
    }
   ],
   "source": [
    "#split() 字符串切割,以某个字符切割，返回列表\n",
    "str2 = '123+34+88+234'\n",
    "str2.split(\"+\")"
   ]
  },
  {
   "cell_type": "code",
   "execution_count": 64,
   "id": "532ea42c",
   "metadata": {},
   "outputs": [],
   "source": [
    "#join() 方法用于将指定字符分别插入一个字符串每两个字符之间，形成一个新字符串"
   ]
  },
  {
   "cell_type": "code",
   "execution_count": 86,
   "id": "14c674f4",
   "metadata": {},
   "outputs": [
    {
     "name": "stdout",
     "output_type": "stream",
     "text": [
      "WOCOL\n"
     ]
    },
    {
     "data": {
      "text/plain": [
       "['我', '是', '一', '个', '好', '孩', '子']"
      ]
     },
     "execution_count": 86,
     "metadata": {},
     "output_type": "execute_result"
    }
   ],
   "source": [
    "str3 = \"O\"\n",
    "str4 = \"WCL\"\n",
    "print(str3.join(str4))\n",
    "#这个方法可以用来配合分割字符串，比如\n",
    "str5 = '我是一个好孩子'\n",
    "str3.join(str5).split('O')"
   ]
  },
  {
   "cell_type": "markdown",
   "id": "dac4f4b5",
   "metadata": {},
   "source": [
    "### 元组 "
   ]
  },
  {
   "cell_type": "code",
   "execution_count": 92,
   "id": "ad7a6c74",
   "metadata": {},
   "outputs": [
    {
     "name": "stdout",
     "output_type": "stream",
     "text": [
      "4\n",
      "1\n"
     ]
    }
   ],
   "source": [
    "#计算某个元素的个数 比较两个元组\n",
    "tuple1 = (1,1,1,1,2,3,'a',(1,2))\n",
    "print(tuple1.count(1))\n",
    "print(tuple1.count((1,2)))"
   ]
  },
  {
   "cell_type": "code",
   "execution_count": 101,
   "id": "3d3d1338",
   "metadata": {},
   "outputs": [
    {
     "name": "stdout",
     "output_type": "stream",
     "text": [
      "4\n",
      "6\n"
     ]
    }
   ],
   "source": [
    "#返回元组某个元素第一次出现位置的索引，也可以规定是从哪个位置开始，到哪个位置结束\n",
    "print(tuple1.index(2))\n",
    "print(tuple1.index('a',5,7))"
   ]
  },
  {
   "cell_type": "code",
   "execution_count": 104,
   "id": "0772ccf3",
   "metadata": {},
   "outputs": [
    {
     "name": "stdout",
     "output_type": "stream",
     "text": [
      "9 不存在与于tuple1\n"
     ]
    }
   ],
   "source": [
    "#如果不存在会报错,所以必须用异常处理来判断\n",
    "try:\n",
    "    tuple1.index(9)\n",
    "except:\n",
    "    print('9 不存在与于tuple1')"
   ]
  },
  {
   "cell_type": "code",
   "execution_count": 107,
   "id": "48139171",
   "metadata": {},
   "outputs": [
    {
     "name": "stdout",
     "output_type": "stream",
     "text": [
      "123\n",
      "1\n"
     ]
    }
   ],
   "source": [
    "#如果tuple里面都是数字，可以用max min 返回最大最小值\n",
    "tuple2 = (2,3,123,1,23,)\n",
    "print(max(tuple2))\n",
    "print(min(tuple2))"
   ]
  },
  {
   "cell_type": "code",
   "execution_count": 108,
   "id": "b9ecb076",
   "metadata": {},
   "outputs": [
    {
     "name": "stdout",
     "output_type": "stream",
     "text": [
      "8\n"
     ]
    }
   ],
   "source": [
    "#len 可以返回tuple的长度\n",
    "print(len(tuple1))"
   ]
  },
  {
   "cell_type": "code",
   "execution_count": 113,
   "id": "5203eda8",
   "metadata": {},
   "outputs": [
    {
     "data": {
      "text/plain": [
       "(12, 12, 3, 4, 3)"
      ]
     },
     "execution_count": 113,
     "metadata": {},
     "output_type": "execute_result"
    }
   ],
   "source": [
    "#tuple()可以将列表转换为元组\n",
    "tuple3 = tuple(list1)\n",
    "tuple3"
   ]
  },
  {
   "cell_type": "markdown",
   "id": "0a42ad34",
   "metadata": {},
   "source": [
    "###  列表 "
   ]
  },
  {
   "cell_type": "code",
   "execution_count": null,
   "id": "54e0a57c",
   "metadata": {},
   "outputs": [],
   "source": [
    "#1、list.append(obj)：在列表末尾添加新的对象\n"
   ]
  }
 ],
 "metadata": {
  "kernelspec": {
   "display_name": "Python 3 (ipykernel)",
   "language": "python",
   "name": "python3"
  },
  "language_info": {
   "codemirror_mode": {
    "name": "ipython",
    "version": 3
   },
   "file_extension": ".py",
   "mimetype": "text/x-python",
   "name": "python",
   "nbconvert_exporter": "python",
   "pygments_lexer": "ipython3",
   "version": "3.9.6"
  }
 },
 "nbformat": 4,
 "nbformat_minor": 5
}
