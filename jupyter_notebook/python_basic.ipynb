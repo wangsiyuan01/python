{
 "cells": [
  {
   "cell_type": "markdown",
   "id": "7385c2f4",
   "metadata": {},
   "source": [
    "# python 基础复习"
   ]
  },
  {
   "cell_type": "markdown",
   "id": "c874f8f1",
   "metadata": {},
   "source": [
    "### 共分为几个部分\n",
    "1. 基础语法需要注意的地方\n",
    "2. 常用的变量类型\n",
    "3. 运算符\n",
    "4. 循环\n",
    "5. 各个字符类型的模块学习\n",
    "6. 函数\n",
    "7. 文件\n",
    "8. 高级进阶\n",
    "\n",
    "-------"
   ]
  },
  {
   "cell_type": "markdown",
   "id": "becacd74",
   "metadata": {},
   "source": [
    "# 1、基础语法注意的点"
   ]
  },
  {
   "cell_type": "markdown",
   "id": "bc431474",
   "metadata": {},
   "source": [
    "* 关于注释"
   ]
  },
  {
   "cell_type": "code",
   "execution_count": 2,
   "id": "1f0d2ea0",
   "metadata": {},
   "outputs": [
    {
     "name": "stdout",
     "output_type": "stream",
     "text": [
      "上面是一个单行注释，不运行\n"
     ]
    }
   ],
   "source": [
    "# 使用 # 是单行注释\n",
    "print(\"上面是一个单行注释，不运行\")"
   ]
  },
  {
   "cell_type": "code",
   "execution_count": 7,
   "id": "b6a8eb41",
   "metadata": {},
   "outputs": [
    {
     "name": "stdout",
     "output_type": "stream",
     "text": [
      "上面是一个多行注释，不运行\n"
     ]
    }
   ],
   "source": [
    "\"\"\"\n",
    "使用英文格式，三个单引号说或者双引号\n",
    "\n",
    "则是多行注释\n",
    "\"\"\"\n",
    "\n",
    "'''\n",
    "使用英文格式，三个单引号说或者双引号\n",
    "\n",
    "则是多行注释\n",
    "'''\n",
    "\n",
    "print(\"上面是一个多行注释，不运行\")"
   ]
  },
  {
   "cell_type": "markdown",
   "id": "37fd7485",
   "metadata": {},
   "source": [
    "* 关于缩进 Python代码对缩进的要求非常严格，"
   ]
  },
  {
   "cell_type": "code",
   "execution_count": 11,
   "id": "78cebc9d",
   "metadata": {},
   "outputs": [
    {
     "ename": "SyntaxError",
     "evalue": "invalid syntax (1851624080.py, line 10)",
     "output_type": "error",
     "traceback": [
      "\u001b[0;36m  File \u001b[0;32m\"/var/folders/dg/dyx6h6tx5q32mzmqz2w8q23c0000gn/T/ipykernel_3401/1851624080.py\"\u001b[0;36m, line \u001b[0;32m10\u001b[0m\n\u001b[0;31m    else:\u001b[0m\n\u001b[0m    ^\u001b[0m\n\u001b[0;31mSyntaxError\u001b[0m\u001b[0;31m:\u001b[0m invalid syntax\n"
     ]
    }
   ],
   "source": [
    "# 缩进严格例子\n",
    "if True:\n",
    "    print('first tab')\n",
    "    \n",
    "    if True:\n",
    "        print('secont tab')\n",
    "    else:\n",
    "        print('second tab')\n",
    "        \n",
    "    #这个地方没有和第一个if 对齐，所以报错，对齐后则不报错\n",
    "    else:\n",
    "        print('first tab')"
   ]
  },
  {
   "cell_type": "markdown",
   "id": "1c16fb68",
   "metadata": {},
   "source": [
    "* 关于Python中的关键字不能做变量问题"
   ]
  },
  {
   "cell_type": "code",
   "execution_count": 14,
   "id": "3a7ca3bf",
   "metadata": {},
   "outputs": [
    {
     "data": {
      "text/plain": [
       "12"
      ]
     },
     "execution_count": 14,
     "metadata": {},
     "output_type": "execute_result"
    }
   ],
   "source": [
    "# python 里面关键字都是小写的 例如： if else while return for from or not 等等\n",
    "\n",
    "# 这些关键词，如果改成大写则不起作用，另外，在命名变量时，一定避开关键词，避免不必要的麻烦\n",
    "\n",
    "#如 定义变量的时候：\n",
    "\n",
    "# return = 12\n",
    "\n",
    "#上面的写法是不可以的，因为return是关键词，又叫保留词，不可以用作变量，但是，Return 是可以的\n",
    "\n",
    "Return = 12\n",
    "\n",
    "Return\n",
    "\n",
    "#但是依旧不建议这样去命名，会影响阅读，可以用 returnValue 这样的组合词。\n"
   ]
  },
  {
   "cell_type": "markdown",
   "id": "c7feed4b",
   "metadata": {},
   "source": [
    "# 2、常用的变量类型 "
   ]
  },
  {
   "cell_type": "markdown",
   "id": "1d0b8e93",
   "metadata": {},
   "source": [
    "* 数字"
   ]
  },
  {
   "cell_type": "code",
   "execution_count": 35,
   "id": "5d7f5564",
   "metadata": {},
   "outputs": [
    {
     "data": {
      "text/plain": [
       "int"
      ]
     },
     "execution_count": 35,
     "metadata": {},
     "output_type": "execute_result"
    }
   ],
   "source": [
    "var1 = int()\n",
    "var1 = 12\n",
    "var1\n",
    "type(var1)"
   ]
  },
  {
   "cell_type": "code",
   "execution_count": 38,
   "id": "36c6e616",
   "metadata": {},
   "outputs": [
    {
     "data": {
      "text/plain": [
       "['__abs__',\n",
       " '__add__',\n",
       " '__and__',\n",
       " '__bool__',\n",
       " '__ceil__',\n",
       " '__class__',\n",
       " '__delattr__',\n",
       " '__dir__',\n",
       " '__divmod__',\n",
       " '__doc__',\n",
       " '__eq__',\n",
       " '__float__',\n",
       " '__floor__',\n",
       " '__floordiv__',\n",
       " '__format__',\n",
       " '__ge__',\n",
       " '__getattribute__',\n",
       " '__getnewargs__',\n",
       " '__gt__',\n",
       " '__hash__',\n",
       " '__index__',\n",
       " '__init__',\n",
       " '__init_subclass__',\n",
       " '__int__',\n",
       " '__invert__',\n",
       " '__le__',\n",
       " '__lshift__',\n",
       " '__lt__',\n",
       " '__mod__',\n",
       " '__mul__',\n",
       " '__ne__',\n",
       " '__neg__',\n",
       " '__new__',\n",
       " '__or__',\n",
       " '__pos__',\n",
       " '__pow__',\n",
       " '__radd__',\n",
       " '__rand__',\n",
       " '__rdivmod__',\n",
       " '__reduce__',\n",
       " '__reduce_ex__',\n",
       " '__repr__',\n",
       " '__rfloordiv__',\n",
       " '__rlshift__',\n",
       " '__rmod__',\n",
       " '__rmul__',\n",
       " '__ror__',\n",
       " '__round__',\n",
       " '__rpow__',\n",
       " '__rrshift__',\n",
       " '__rshift__',\n",
       " '__rsub__',\n",
       " '__rtruediv__',\n",
       " '__rxor__',\n",
       " '__setattr__',\n",
       " '__sizeof__',\n",
       " '__str__',\n",
       " '__sub__',\n",
       " '__subclasshook__',\n",
       " '__truediv__',\n",
       " '__trunc__',\n",
       " '__xor__',\n",
       " 'as_integer_ratio',\n",
       " 'bit_length',\n",
       " 'conjugate',\n",
       " 'denominator',\n",
       " 'from_bytes',\n",
       " 'imag',\n",
       " 'numerator',\n",
       " 'real',\n",
       " 'to_bytes']"
      ]
     },
     "execution_count": 38,
     "metadata": {},
     "output_type": "execute_result"
    }
   ],
   "source": [
    "# dir()函数不带参数时，返回当前范围内的变量、方法和定义的类型列表；带参数时，返回参数的属性、方法列表\n",
    "dir(var1)"
   ]
  },
  {
   "cell_type": "code",
   "execution_count": 41,
   "id": "855ba9cd",
   "metadata": {},
   "outputs": [
    {
     "data": {
      "text/plain": [
       "False"
      ]
     },
     "execution_count": 41,
     "metadata": {},
     "output_type": "execute_result"
    }
   ],
   "source": [
    "#举例 __eq__() 判断两个数是否相等\n",
    "result = var1.__eq__(14)\n",
    "result"
   ]
  },
  {
   "cell_type": "code",
   "execution_count": 43,
   "id": "b2b57c2c",
   "metadata": {},
   "outputs": [
    {
     "data": {
      "text/plain": [
       "float"
      ]
     },
     "execution_count": 43,
     "metadata": {},
     "output_type": "execute_result"
    }
   ],
   "source": [
    "#浮点型\n",
    "var2 = 12.32\n",
    "type(var2)"
   ]
  },
  {
   "cell_type": "code",
   "execution_count": 44,
   "id": "ee568371",
   "metadata": {},
   "outputs": [
    {
     "data": {
      "text/plain": [
       "complex"
      ]
     },
     "execution_count": 44,
     "metadata": {},
     "output_type": "execute_result"
    }
   ],
   "source": [
    "#复数\n",
    "var3 = 12j\n",
    "type(var3)"
   ]
  },
  {
   "cell_type": "code",
   "execution_count": 47,
   "id": "11ae0dea",
   "metadata": {},
   "outputs": [
    {
     "ename": "SyntaxError",
     "evalue": "invalid syntax (2803440592.py, line 2)",
     "output_type": "error",
     "traceback": [
      "\u001b[0;36m  File \u001b[0;32m\"/var/folders/dg/dyx6h6tx5q32mzmqz2w8q23c0000gn/T/ipykernel_3401/2803440592.py\"\u001b[0;36m, line \u001b[0;32m2\u001b[0m\n\u001b[0;31m    var4 = 123L\u001b[0m\n\u001b[0m              ^\u001b[0m\n\u001b[0;31mSyntaxError\u001b[0m\u001b[0;31m:\u001b[0m invalid syntax\n"
     ]
    }
   ],
   "source": [
    "#python3 里面没有长整型了，所以定义长整型会报错,pyton2是可以的\n",
    "var4 = 123L"
   ]
  },
  {
   "cell_type": "code",
   "execution_count": 48,
   "id": "f28b2d31",
   "metadata": {},
   "outputs": [],
   "source": [
    "#以上类型都可以用dir() 方法去查看属性和方法列表，不一一赘述"
   ]
  },
  {
   "cell_type": "markdown",
   "id": "4dd60984",
   "metadata": {},
   "source": [
    "* 字符串"
   ]
  },
  {
   "cell_type": "code",
   "execution_count": 50,
   "id": "04923861",
   "metadata": {},
   "outputs": [
    {
     "data": {
      "text/plain": [
       "str"
      ]
     },
     "execution_count": 50,
     "metadata": {},
     "output_type": "execute_result"
    }
   ],
   "source": [
    "#定义一个字符串\n",
    "string1 = \"asfadfaf\"\n",
    "type(string1)"
   ]
  },
  {
   "cell_type": "code",
   "execution_count": 58,
   "id": "e22f74a2",
   "metadata": {},
   "outputs": [
    {
     "data": {
      "text/plain": [
       "str"
      ]
     },
     "execution_count": 58,
     "metadata": {},
     "output_type": "execute_result"
    }
   ],
   "source": [
    "# 单引号也可以\n",
    "string2 = 'sadfafd'\n",
    "type(string2)"
   ]
  },
  {
   "cell_type": "code",
   "execution_count": 64,
   "id": "95b5a92c",
   "metadata": {},
   "outputs": [
    {
     "data": {
      "text/plain": [
       "str"
      ]
     },
     "execution_count": 64,
     "metadata": {},
     "output_type": "execute_result"
    }
   ],
   "source": [
    "# 三引号也可以\n",
    "string3 = '''wowowo'''\n",
    "string4 = \"\"\"sdfasdfasfda\"\"\"\n",
    "type(string3)"
   ]
  },
  {
   "cell_type": "code",
   "execution_count": 62,
   "id": "10a757e9",
   "metadata": {},
   "outputs": [
    {
     "name": "stdout",
     "output_type": "stream",
     "text": [
      "asfadfaf sadfafd wowowo sdfasdfasfda\n"
     ]
    }
   ],
   "source": [
    "print(string1,string2,string3,string4)"
   ]
  },
  {
   "cell_type": "code",
   "execution_count": 68,
   "id": "fa374ee4",
   "metadata": {},
   "outputs": [
    {
     "name": "stdout",
     "output_type": "stream",
     "text": [
      "str1: python\n",
      "str2: \"python\"\n",
      "str3: 'python'\n",
      "str4: python\n",
      "str5: \"python\"\n",
      "str6: hello\n",
      "python\n",
      "str7: hello\n",
      "python\n"
     ]
    }
   ],
   "source": [
    "#单引号\n",
    "str1='python'\n",
    "#单引号中使用双引号\n",
    "str2='\"python\"'\n",
    "#双引号中使用单引号\n",
    "str3=\"'python'\"\n",
    "#三单引号\n",
    "str4='''python'''\n",
    "#三单引号中间使用双引号\n",
    "str5='''\"python\"'''\n",
    "#三单引号中有换行符\n",
    "str6='''hello\n",
    "python'''\n",
    "#三双引号中有换行符\n",
    "str7=\"\"\"hello\n",
    "python\"\"\"\n",
    "\n",
    "#str.format() 方法 字符串格式化方法，用str1来替换{0}\n",
    "print(\"str1: {0}\".format(str1))\n",
    "print(\"str2: {0}\".format(str2))\n",
    "print(\"str3: {0}\".format(str3))\n",
    "print(\"str4: {0}\".format(str4))\n",
    "print(\"str5: {0}\".format(str5))\n",
    "print(\"str6: {0}\".format(str6))\n",
    "print(\"str7: {0}\".format(str6))"
   ]
  },
  {
   "cell_type": "markdown",
   "id": "ddd123e1",
   "metadata": {},
   "source": [
    "结论：\n",
    "\n",
    "（1）单引号中可以使用双引号，中间的会当作字符串输出\n",
    "\n",
    "（2）双引号中可以使用单引号，中间的会当作字符串输出\n",
    "\n",
    "（3）三单引号和三双引号中间的字符串在输出时保持原来的格式。\n"
   ]
  },
  {
   "cell_type": "code",
   "execution_count": 70,
   "id": "c7d69f30",
   "metadata": {},
   "outputs": [
    {
     "data": {
      "text/plain": [
       "'a'"
      ]
     },
     "execution_count": 70,
     "metadata": {},
     "output_type": "execute_result"
    }
   ],
   "source": [
    "#字符串的截取\n",
    "#输出第一个字符\n",
    "string1[0]"
   ]
  },
  {
   "cell_type": "code",
   "execution_count": 71,
   "id": "2267ae5b",
   "metadata": {},
   "outputs": [
    {
     "data": {
      "text/plain": [
       "'asf'"
      ]
     },
     "execution_count": 71,
     "metadata": {},
     "output_type": "execute_result"
    }
   ],
   "source": [
    "#输出第1到第4个字符\n",
    "string1[0:3]"
   ]
  },
  {
   "cell_type": "code",
   "execution_count": 73,
   "id": "38952a3a",
   "metadata": {},
   "outputs": [
    {
     "data": {
      "text/plain": [
       "'sfadfaf'"
      ]
     },
     "execution_count": 73,
     "metadata": {},
     "output_type": "execute_result"
    }
   ],
   "source": [
    "#输出从第2个开始以后的字符\n",
    "string1[1:]"
   ]
  },
  {
   "cell_type": "code",
   "execution_count": 79,
   "id": "ddb42bf5",
   "metadata": {},
   "outputs": [
    {
     "data": {
      "text/plain": [
       "'asfadfafasfadfaf'"
      ]
     },
     "execution_count": 79,
     "metadata": {},
     "output_type": "execute_result"
    }
   ],
   "source": [
    "#输出字符串两次\n",
    "string1 *2"
   ]
  },
  {
   "cell_type": "code",
   "execution_count": 82,
   "id": "2ab8f1c7",
   "metadata": {},
   "outputs": [
    {
     "data": {
      "text/plain": [
       "'asfadfafwowowo'"
      ]
     },
     "execution_count": 82,
     "metadata": {},
     "output_type": "execute_result"
    }
   ],
   "source": [
    "#字符串拼接\n",
    "string1 + string3\n"
   ]
  },
  {
   "cell_type": "code",
   "execution_count": null,
   "id": "3c2d96cd",
   "metadata": {},
   "outputs": [],
   "source": []
  }
 ],
 "metadata": {
  "kernelspec": {
   "display_name": "Python 3 (ipykernel)",
   "language": "python",
   "name": "python3"
  },
  "language_info": {
   "codemirror_mode": {
    "name": "ipython",
    "version": 3
   },
   "file_extension": ".py",
   "mimetype": "text/x-python",
   "name": "python",
   "nbconvert_exporter": "python",
   "pygments_lexer": "ipython3",
   "version": "3.9.6"
  }
 },
 "nbformat": 4,
 "nbformat_minor": 5
}
