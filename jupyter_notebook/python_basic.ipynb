{
 "cells": [
  {
   "cell_type": "markdown",
   "id": "7385c2f4",
   "metadata": {},
   "source": [
    "# python 基础复习"
   ]
  },
  {
   "cell_type": "markdown",
   "id": "c874f8f1",
   "metadata": {},
   "source": [
    "### 共分为几个部分\n",
    "1. 基础语法需要注意的地方\n",
    "2. 常用的变量类型\n",
    "3. 运算符\n",
    "4. 循环\n",
    "5. 各个字符类型的模块学习\n",
    "6. 函数\n",
    "7. 文件\n",
    "8. 高级进阶\n",
    "\n",
    "-------"
   ]
  },
  {
   "cell_type": "markdown",
   "id": "dfc89010",
   "metadata": {},
   "source": [
    "# 1、基础语法注意的点"
   ]
  },
  {
   "cell_type": "markdown",
   "id": "6ef007ea",
   "metadata": {},
   "source": [
    "### * 关于注释"
   ]
  },
  {
   "cell_type": "code",
   "execution_count": 2,
   "id": "4b8ab21f",
   "metadata": {},
   "outputs": [
    {
     "name": "stdout",
     "output_type": "stream",
     "text": [
      "上面是一个单行注释，不运行\n"
     ]
    }
   ],
   "source": [
    "# 使用 # 是单行注释\n",
    "print(\"上面是一个单行注释，不运行\")"
   ]
  },
  {
   "cell_type": "code",
   "execution_count": 7,
   "id": "f0f9a25a",
   "metadata": {},
   "outputs": [
    {
     "name": "stdout",
     "output_type": "stream",
     "text": [
      "上面是一个多行注释，不运行\n"
     ]
    }
   ],
   "source": [
    "\"\"\"\n",
    "使用英文格式，三个单引号说或者双引号\n",
    "\n",
    "则是多行注释\n",
    "\"\"\"\n",
    "\n",
    "'''\n",
    "使用英文格式，三个单引号说或者双引号\n",
    "\n",
    "则是多行注释\n",
    "'''\n",
    "\n",
    "print(\"上面是一个多行注释，不运行\")"
   ]
  },
  {
   "cell_type": "markdown",
   "id": "90efe4b2",
   "metadata": {},
   "source": [
    "### * 关于缩进 Python代码对缩进的要求非常严格，"
   ]
  },
  {
   "cell_type": "code",
   "execution_count": 11,
   "id": "7daf8a26",
   "metadata": {},
   "outputs": [
    {
     "ename": "SyntaxError",
     "evalue": "invalid syntax (1851624080.py, line 10)",
     "output_type": "error",
     "traceback": [
      "\u001b[0;36m  File \u001b[0;32m\"/var/folders/dg/dyx6h6tx5q32mzmqz2w8q23c0000gn/T/ipykernel_3401/1851624080.py\"\u001b[0;36m, line \u001b[0;32m10\u001b[0m\n\u001b[0;31m    else:\u001b[0m\n\u001b[0m    ^\u001b[0m\n\u001b[0;31mSyntaxError\u001b[0m\u001b[0;31m:\u001b[0m invalid syntax\n"
     ]
    }
   ],
   "source": [
    "# 缩进严格例子\n",
    "if True:\n",
    "    print('first tab')\n",
    "    \n",
    "    if True:\n",
    "        print('secont tab')\n",
    "    else:\n",
    "        print('second tab')\n",
    "        \n",
    "    #这个地方没有和第一个if 对齐，所以报错，对齐后则不报错\n",
    "    else:\n",
    "        print('first tab')"
   ]
  },
  {
   "cell_type": "markdown",
   "id": "18763fdd",
   "metadata": {},
   "source": [
    "### * 关于Python中的关键字不能做变量问题"
   ]
  },
  {
   "cell_type": "code",
   "execution_count": 14,
   "id": "41ff1fd9",
   "metadata": {},
   "outputs": [
    {
     "data": {
      "text/plain": [
       "12"
      ]
     },
     "execution_count": 14,
     "metadata": {},
     "output_type": "execute_result"
    }
   ],
   "source": [
    "# python 里面关键字都是小写的 例如： if else while return for from or not 等等\n",
    "\n",
    "# 这些关键词，如果改成大写则不起作用，另外，在命名变量时，一定避开关键词，避免不必要的麻烦\n",
    "\n",
    "#如 定义变量的时候：\n",
    "\n",
    "# return = 12\n",
    "\n",
    "#上面的写法是不可以的，因为return是关键词，又叫保留词，不可以用作变量，但是，Return 是可以的\n",
    "\n",
    "Return = 12\n",
    "\n",
    "Return\n",
    "\n",
    "#但是依旧不建议这样去命名，会影响阅读，可以用 returnValue 这样的组合词。\n"
   ]
  },
  {
   "cell_type": "markdown",
   "id": "2d034600",
   "metadata": {},
   "source": [
    "# 2、常用的变量类型 "
   ]
  },
  {
   "cell_type": "markdown",
   "id": "447b7cec",
   "metadata": {},
   "source": [
    "### * 数字"
   ]
  },
  {
   "cell_type": "code",
   "execution_count": 35,
   "id": "b27cf517",
   "metadata": {},
   "outputs": [
    {
     "data": {
      "text/plain": [
       "int"
      ]
     },
     "execution_count": 35,
     "metadata": {},
     "output_type": "execute_result"
    }
   ],
   "source": [
    "var1 = int()\n",
    "var1 = 12\n",
    "var1\n",
    "type(var1)"
   ]
  },
  {
   "cell_type": "code",
   "execution_count": 38,
   "id": "487e4e59",
   "metadata": {},
   "outputs": [
    {
     "data": {
      "text/plain": [
       "['__abs__',\n",
       " '__add__',\n",
       " '__and__',\n",
       " '__bool__',\n",
       " '__ceil__',\n",
       " '__class__',\n",
       " '__delattr__',\n",
       " '__dir__',\n",
       " '__divmod__',\n",
       " '__doc__',\n",
       " '__eq__',\n",
       " '__float__',\n",
       " '__floor__',\n",
       " '__floordiv__',\n",
       " '__format__',\n",
       " '__ge__',\n",
       " '__getattribute__',\n",
       " '__getnewargs__',\n",
       " '__gt__',\n",
       " '__hash__',\n",
       " '__index__',\n",
       " '__init__',\n",
       " '__init_subclass__',\n",
       " '__int__',\n",
       " '__invert__',\n",
       " '__le__',\n",
       " '__lshift__',\n",
       " '__lt__',\n",
       " '__mod__',\n",
       " '__mul__',\n",
       " '__ne__',\n",
       " '__neg__',\n",
       " '__new__',\n",
       " '__or__',\n",
       " '__pos__',\n",
       " '__pow__',\n",
       " '__radd__',\n",
       " '__rand__',\n",
       " '__rdivmod__',\n",
       " '__reduce__',\n",
       " '__reduce_ex__',\n",
       " '__repr__',\n",
       " '__rfloordiv__',\n",
       " '__rlshift__',\n",
       " '__rmod__',\n",
       " '__rmul__',\n",
       " '__ror__',\n",
       " '__round__',\n",
       " '__rpow__',\n",
       " '__rrshift__',\n",
       " '__rshift__',\n",
       " '__rsub__',\n",
       " '__rtruediv__',\n",
       " '__rxor__',\n",
       " '__setattr__',\n",
       " '__sizeof__',\n",
       " '__str__',\n",
       " '__sub__',\n",
       " '__subclasshook__',\n",
       " '__truediv__',\n",
       " '__trunc__',\n",
       " '__xor__',\n",
       " 'as_integer_ratio',\n",
       " 'bit_length',\n",
       " 'conjugate',\n",
       " 'denominator',\n",
       " 'from_bytes',\n",
       " 'imag',\n",
       " 'numerator',\n",
       " 'real',\n",
       " 'to_bytes']"
      ]
     },
     "execution_count": 38,
     "metadata": {},
     "output_type": "execute_result"
    }
   ],
   "source": [
    "# dir()函数不带参数时，返回当前范围内的变量、方法和定义的类型列表；带参数时，返回参数的属性、方法列表\n",
    "dir(var1)"
   ]
  },
  {
   "cell_type": "code",
   "execution_count": 41,
   "id": "ba400205",
   "metadata": {},
   "outputs": [
    {
     "data": {
      "text/plain": [
       "False"
      ]
     },
     "execution_count": 41,
     "metadata": {},
     "output_type": "execute_result"
    }
   ],
   "source": [
    "#举例 __eq__() 判断两个数是否相等\n",
    "result = var1.__eq__(14)\n",
    "result"
   ]
  },
  {
   "cell_type": "code",
   "execution_count": 43,
   "id": "d5bad936",
   "metadata": {},
   "outputs": [
    {
     "data": {
      "text/plain": [
       "float"
      ]
     },
     "execution_count": 43,
     "metadata": {},
     "output_type": "execute_result"
    }
   ],
   "source": [
    "#浮点型\n",
    "var2 = 12.32\n",
    "type(var2)"
   ]
  },
  {
   "cell_type": "code",
   "execution_count": 44,
   "id": "3d15694d",
   "metadata": {},
   "outputs": [
    {
     "data": {
      "text/plain": [
       "complex"
      ]
     },
     "execution_count": 44,
     "metadata": {},
     "output_type": "execute_result"
    }
   ],
   "source": [
    "#复数\n",
    "var3 = 12j\n",
    "type(var3)"
   ]
  },
  {
   "cell_type": "code",
   "execution_count": 47,
   "id": "f9d9f029",
   "metadata": {},
   "outputs": [
    {
     "ename": "SyntaxError",
     "evalue": "invalid syntax (2803440592.py, line 2)",
     "output_type": "error",
     "traceback": [
      "\u001b[0;36m  File \u001b[0;32m\"/var/folders/dg/dyx6h6tx5q32mzmqz2w8q23c0000gn/T/ipykernel_3401/2803440592.py\"\u001b[0;36m, line \u001b[0;32m2\u001b[0m\n\u001b[0;31m    var4 = 123L\u001b[0m\n\u001b[0m              ^\u001b[0m\n\u001b[0;31mSyntaxError\u001b[0m\u001b[0;31m:\u001b[0m invalid syntax\n"
     ]
    }
   ],
   "source": [
    "#python3 里面没有长整型了，所以定义长整型会报错,pyton2是可以的\n",
    "var4 = 123L"
   ]
  },
  {
   "cell_type": "code",
   "execution_count": 48,
   "id": "32176bb4",
   "metadata": {},
   "outputs": [],
   "source": [
    "#以上类型都可以用dir() 方法去查看属性和方法列表，不一一赘述"
   ]
  },
  {
   "cell_type": "markdown",
   "id": "732edc90",
   "metadata": {},
   "source": [
    "### * 字符串"
   ]
  },
  {
   "cell_type": "code",
   "execution_count": 50,
   "id": "c465499e",
   "metadata": {},
   "outputs": [
    {
     "data": {
      "text/plain": [
       "str"
      ]
     },
     "execution_count": 50,
     "metadata": {},
     "output_type": "execute_result"
    }
   ],
   "source": [
    "#定义一个字符串\n",
    "string1 = \"asfadfaf\"\n",
    "type(string1)"
   ]
  },
  {
   "cell_type": "code",
   "execution_count": 58,
   "id": "0cee5a4c",
   "metadata": {},
   "outputs": [
    {
     "data": {
      "text/plain": [
       "str"
      ]
     },
     "execution_count": 58,
     "metadata": {},
     "output_type": "execute_result"
    }
   ],
   "source": [
    "# 单引号也可以\n",
    "string2 = 'sadfafd'\n",
    "type(string2)"
   ]
  },
  {
   "cell_type": "code",
   "execution_count": 64,
   "id": "6ea5fad9",
   "metadata": {},
   "outputs": [
    {
     "data": {
      "text/plain": [
       "str"
      ]
     },
     "execution_count": 64,
     "metadata": {},
     "output_type": "execute_result"
    }
   ],
   "source": [
    "# 三引号也可以\n",
    "string3 = '''wowowo'''\n",
    "string4 = \"\"\"sdfasdfasfda\"\"\"\n",
    "type(string3)"
   ]
  },
  {
   "cell_type": "code",
   "execution_count": 62,
   "id": "29dc8ccb",
   "metadata": {},
   "outputs": [
    {
     "name": "stdout",
     "output_type": "stream",
     "text": [
      "asfadfaf sadfafd wowowo sdfasdfasfda\n"
     ]
    }
   ],
   "source": [
    "print(string1,string2,string3,string4)"
   ]
  },
  {
   "cell_type": "code",
   "execution_count": 68,
   "id": "6a6d272e",
   "metadata": {},
   "outputs": [
    {
     "name": "stdout",
     "output_type": "stream",
     "text": [
      "str1: python\n",
      "str2: \"python\"\n",
      "str3: 'python'\n",
      "str4: python\n",
      "str5: \"python\"\n",
      "str6: hello\n",
      "python\n",
      "str7: hello\n",
      "python\n"
     ]
    }
   ],
   "source": [
    "#单引号\n",
    "str1='python'\n",
    "#单引号中使用双引号\n",
    "str2='\"python\"'\n",
    "#双引号中使用单引号\n",
    "str3=\"'python'\"\n",
    "#三单引号\n",
    "str4='''python'''\n",
    "#三单引号中间使用双引号\n",
    "str5='''\"python\"'''\n",
    "#三单引号中有换行符\n",
    "str6='''hello\n",
    "python'''\n",
    "#三双引号中有换行符\n",
    "str7=\"\"\"hello\n",
    "python\"\"\"\n",
    "\n",
    "#str.format() 方法 字符串格式化方法，用str1来替换{0}\n",
    "print(\"str1: {0}\".format(str1))\n",
    "print(\"str2: {0}\".format(str2))\n",
    "print(\"str3: {0}\".format(str3))\n",
    "print(\"str4: {0}\".format(str4))\n",
    "print(\"str5: {0}\".format(str5))\n",
    "print(\"str6: {0}\".format(str6))\n",
    "print(\"str7: {0}\".format(str6))"
   ]
  },
  {
   "cell_type": "markdown",
   "id": "144db4b8",
   "metadata": {},
   "source": [
    "结论：\n",
    "\n",
    "（1）单引号中可以使用双引号，中间的会当作字符串输出\n",
    "\n",
    "（2）双引号中可以使用单引号，中间的会当作字符串输出\n",
    "\n",
    "（3）三单引号和三双引号中间的字符串在输出时保持原来的格式。\n"
   ]
  },
  {
   "cell_type": "code",
   "execution_count": 70,
   "id": "d6bc9d62",
   "metadata": {},
   "outputs": [
    {
     "data": {
      "text/plain": [
       "'a'"
      ]
     },
     "execution_count": 70,
     "metadata": {},
     "output_type": "execute_result"
    }
   ],
   "source": [
    "#字符串的截取\n",
    "#输出第一个字符\n",
    "string1[0]"
   ]
  },
  {
   "cell_type": "code",
   "execution_count": 71,
   "id": "dc380b78",
   "metadata": {},
   "outputs": [
    {
     "data": {
      "text/plain": [
       "'asf'"
      ]
     },
     "execution_count": 71,
     "metadata": {},
     "output_type": "execute_result"
    }
   ],
   "source": [
    "#输出第1到第4个字符\n",
    "string1[0:3]"
   ]
  },
  {
   "cell_type": "code",
   "execution_count": 73,
   "id": "e4ce4528",
   "metadata": {},
   "outputs": [
    {
     "data": {
      "text/plain": [
       "'sfadfaf'"
      ]
     },
     "execution_count": 73,
     "metadata": {},
     "output_type": "execute_result"
    }
   ],
   "source": [
    "#输出从第2个开始以后的字符\n",
    "string1[1:]"
   ]
  },
  {
   "cell_type": "code",
   "execution_count": 79,
   "id": "68bfcf35",
   "metadata": {},
   "outputs": [
    {
     "data": {
      "text/plain": [
       "'asfadfafasfadfaf'"
      ]
     },
     "execution_count": 79,
     "metadata": {},
     "output_type": "execute_result"
    }
   ],
   "source": [
    "#输出字符串两次\n",
    "string1 *2"
   ]
  },
  {
   "cell_type": "code",
   "execution_count": 82,
   "id": "18a95cd8",
   "metadata": {},
   "outputs": [
    {
     "data": {
      "text/plain": [
       "'asfadfafwowowo'"
      ]
     },
     "execution_count": 82,
     "metadata": {},
     "output_type": "execute_result"
    }
   ],
   "source": [
    "#字符串拼接\n",
    "string1 + string3\n"
   ]
  },
  {
   "cell_type": "markdown",
   "id": "8d5ecc72",
   "metadata": {},
   "source": [
    "### * python 列表 list"
   ]
  },
  {
   "cell_type": "markdown",
   "id": "290151d0",
   "metadata": {},
   "source": [
    "\n",
    "List（列表） 是 Python 中使用最频繁的数据类型。\n",
    "\n",
    "列表可以完成大多数集合类的数据结构实现。它支持字符，数字，字符串甚至可以包含列表（即嵌套）。\n",
    "\n",
    "列表用 []标识，是 python 最通用的复合数据类型。\n",
    "\n",
    "列表中值的切割也可以用到变量 [头下标:尾下标] ，就可以截取相应的列表，从左到右索引默认 0 开始，从右到左索引默认 -1 开始，下标可以为空表示取到头或尾。\n"
   ]
  },
  {
   "cell_type": "code",
   "execution_count": 97,
   "id": "f3ff9fb6",
   "metadata": {},
   "outputs": [
    {
     "name": "stdout",
     "output_type": "stream",
     "text": [
      "['runoob', 786, 2.23, 'john', 70.2]\n",
      "runoob\n",
      "[786, 2.23]\n",
      "[2.23, 'john', 70.2]\n",
      "[123, 'john', 123, 'john']\n",
      "['runoob', 786, 2.23, 'john', 70.2, 123, 'john']\n"
     ]
    }
   ],
   "source": [
    "list1 = [ 'runoob', 786 , 2.23, 'john', 70.2 ]\n",
    "tinylist = [123, 'john']\n",
    " \n",
    "print(list1)             # 输出完整列表\n",
    "print(list1[0])          # 输出列表的第一个元素\n",
    "print(list1[1:3])        # 输出第二个至第三个元素 \n",
    "print(list1[2:])         # 输出从第三个开始至列表末尾的所有元素\n",
    "print(tinylist * 2)      # 输出列表两次\n",
    "print(list1 + tinylist)  # 打印组合的列表"
   ]
  },
  {
   "cell_type": "markdown",
   "id": "ab83e064",
   "metadata": {},
   "source": [
    "### * python元组 "
   ]
  },
  {
   "cell_type": "markdown",
   "id": "bfc52e1d",
   "metadata": {},
   "source": [
    "元组是另一个数据类型，类似于 List（列表）。\n",
    "\n",
    "元组用 () 标识。内部元素用逗号隔开。但是元组不能二次赋值，相当于只读列表。"
   ]
  },
  {
   "cell_type": "code",
   "execution_count": 113,
   "id": "202c1e75",
   "metadata": {},
   "outputs": [
    {
     "name": "stdout",
     "output_type": "stream",
     "text": [
      "('runoob', 786, 2.23, 'john', 70.2)\n",
      "runoob\n",
      "(786, 2.23)\n",
      "(2.23, 'john', 70.2)\n",
      "(123, 'john', 123, 'john')\n",
      "('runoob', 786, 2.23, 'john', 70.2, 123, 'john')\n"
     ]
    }
   ],
   "source": [
    "tuple1 = ( 'runoob', 786 , 2.23, 'john', 70.2 )\n",
    "tinytuple = (123, 'john')\n",
    " \n",
    "print(tuple1)                # 输出完整元组\n",
    "print(tuple1[0])             # 输出元组的第一个元素\n",
    "print(tuple1[1:3])           # 输出第二个至第四个（不包含）的元素 \n",
    "print(tuple1[2:])            # 输出从第三个开始至列表末尾的所有元素\n",
    "print(tinytuple * 2)        # 输出元组两次\n",
    "print(tuple1 + tinytuple)    # 打印组合的元组"
   ]
  },
  {
   "cell_type": "code",
   "execution_count": 114,
   "id": "c98249a0",
   "metadata": {},
   "outputs": [
    {
     "ename": "TypeError",
     "evalue": "'tuple' object does not support item assignment",
     "output_type": "error",
     "traceback": [
      "\u001b[0;31m---------------------------------------------------------------------------\u001b[0m",
      "\u001b[0;31mTypeError\u001b[0m                                 Traceback (most recent call last)",
      "\u001b[0;32m/var/folders/dg/dyx6h6tx5q32mzmqz2w8q23c0000gn/T/ipykernel_3401/677032192.py\u001b[0m in \u001b[0;36m<module>\u001b[0;34m\u001b[0m\n\u001b[1;32m      1\u001b[0m \u001b[0;31m#不允许更改其中的元素\u001b[0m\u001b[0;34m\u001b[0m\u001b[0;34m\u001b[0m\u001b[0;34m\u001b[0m\u001b[0m\n\u001b[0;32m----> 2\u001b[0;31m \u001b[0mtuple1\u001b[0m\u001b[0;34m[\u001b[0m\u001b[0;36m2\u001b[0m\u001b[0;34m]\u001b[0m \u001b[0;34m=\u001b[0m \u001b[0;36m13\u001b[0m\u001b[0;34m\u001b[0m\u001b[0;34m\u001b[0m\u001b[0m\n\u001b[0m\u001b[1;32m      3\u001b[0m \u001b[0mtuple1\u001b[0m\u001b[0;34m\u001b[0m\u001b[0;34m\u001b[0m\u001b[0m\n",
      "\u001b[0;31mTypeError\u001b[0m: 'tuple' object does not support item assignment"
     ]
    }
   ],
   "source": [
    "#不允许更改其中的元素\n",
    "tuple1[2] = 13\n",
    "tuple1"
   ]
  },
  {
   "cell_type": "code",
   "execution_count": 115,
   "id": "7852992e",
   "metadata": {},
   "outputs": [
    {
     "data": {
      "text/plain": [
       "('oob', 6, 23, 'bob', 0.2)"
      ]
     },
     "execution_count": 115,
     "metadata": {},
     "output_type": "execute_result"
    }
   ],
   "source": [
    "#但是可以被覆盖\n",
    "tuple1 = ( 'oob', 6 , 23, 'bob', 0.2 )\n",
    "tuple1"
   ]
  },
  {
   "cell_type": "code",
   "execution_count": 119,
   "id": "147555a8",
   "metadata": {},
   "outputs": [
    {
     "name": "stdout",
     "output_type": "stream",
     "text": [
      "('sadf', 234, ('sdf', 0.097))\n"
     ]
    },
    {
     "data": {
      "text/plain": [
       "tuple"
      ]
     },
     "execution_count": 119,
     "metadata": {},
     "output_type": "execute_result"
    }
   ],
   "source": [
    "#可以嵌套\n",
    "tuple2 = ('sadf',234,('sdf',0.097))\n",
    "print(tuple2)\n",
    "type(tuple2[2])"
   ]
  },
  {
   "cell_type": "markdown",
   "id": "ecfd95bc",
   "metadata": {},
   "source": [
    "### * pythn 字典 dictionary"
   ]
  },
  {
   "cell_type": "markdown",
   "id": "c8a4bdb8",
   "metadata": {},
   "source": [
    "字典(dictionary)是除列表以外python之中最灵活的内置数据结构类型。列表是有序的对象集合，字典是无序的对象集合。\n",
    "\n",
    "两者之间的区别在于：字典当中的元素是通过键来存取的，而不是通过偏移存取。\n",
    "\n",
    "字典用\"{ }\"标识。字典由索引(key)和它对应的值value组成。\n",
    "\n",
    "PS: dic 同样是可以嵌套的"
   ]
  },
  {
   "cell_type": "code",
   "execution_count": 122,
   "id": "76dd97cf",
   "metadata": {},
   "outputs": [
    {
     "name": "stdout",
     "output_type": "stream",
     "text": [
      "{'one': 'This is one', 2: 'This is two'}\n",
      "This is one\n",
      "This is two\n",
      "{'name': 'runoob', 'code': 6734, 'dept': 'sales'}\n",
      "dict_keys(['name', 'code', 'dept'])\n",
      "dict_values(['runoob', 6734, 'sales'])\n"
     ]
    }
   ],
   "source": [
    "dict1 = {}\n",
    "dict1['one'] = \"This is one\"\n",
    "dict1[2] = \"This is two\"\n",
    " \n",
    "tinydict = {'name': 'runoob','code':6734, 'dept': 'sales'}\n",
    "\n",
    "print(dict1)                 # 输出dict1\n",
    "print(dict1['one'])          # 输出键为'one' 的值\n",
    "print(dict1[2])              # 输出键为 2 的值\n",
    "print(tinydict)              # 输出完整的字典\n",
    "print(tinydict.keys())       # 输出所有键\n",
    "print(tinydict.values())     # 输出所有值"
   ]
  },
  {
   "cell_type": "code",
   "execution_count": null,
   "id": "5dd4cb3b",
   "metadata": {},
   "outputs": [],
   "source": []
  }
 ],
 "metadata": {
  "kernelspec": {
   "display_name": "Python 3 (ipykernel)",
   "language": "python",
   "name": "python3"
  },
  "language_info": {
   "codemirror_mode": {
    "name": "ipython",
    "version": 3
   },
   "file_extension": ".py",
   "mimetype": "text/x-python",
   "name": "python",
   "nbconvert_exporter": "python",
   "pygments_lexer": "ipython3",
   "version": "3.9.6"
  }
 },
 "nbformat": 4,
 "nbformat_minor": 5
}
