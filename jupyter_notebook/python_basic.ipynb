{
 "cells": [
  {
   "cell_type": "markdown",
   "id": "7385c2f4",
   "metadata": {},
   "source": [
    "# python 基础复习"
   ]
  },
  {
   "cell_type": "markdown",
   "id": "c874f8f1",
   "metadata": {},
   "source": [
    "### 共分为几个部分\n",
    "1. 基础语法需要注意的地方\n",
    "2. 常用的变量类型\n",
    "3. 运算符\n",
    "4. 循环和条件运算\n",
    "5. 各个字符类型操作方法学习\n",
    "6. 函数\n",
    "7. 文件\n",
    "8. 高级进阶\n",
    "\n",
    "-------"
   ]
  },
  {
   "cell_type": "markdown",
   "id": "cb4ffb59",
   "metadata": {},
   "source": [
    "# 1、基础语法注意的点"
   ]
  },
  {
   "cell_type": "markdown",
   "id": "49c2c97f",
   "metadata": {},
   "source": [
    "### * 关于注释"
   ]
  },
  {
   "cell_type": "code",
   "execution_count": 136,
   "id": "77734252",
   "metadata": {},
   "outputs": [
    {
     "name": "stdout",
     "output_type": "stream",
     "text": [
      "上面是一个单行注释，不运行\n"
     ]
    }
   ],
   "source": [
    "# 使用 # 是单行注释\n",
    "print(\"上面是一个单行注释，不运行\")"
   ]
  },
  {
   "cell_type": "code",
   "execution_count": 137,
   "id": "aa6c9954",
   "metadata": {},
   "outputs": [
    {
     "name": "stdout",
     "output_type": "stream",
     "text": [
      "上面是一个多行注释，不运行\n"
     ]
    }
   ],
   "source": [
    "\"\"\"\n",
    "使用英文格式，三个单引号说或者双引号\n",
    "\n",
    "则是多行注释\n",
    "\"\"\"\n",
    "\n",
    "'''\n",
    "使用英文格式，三个单引号说或者双引号\n",
    "\n",
    "则是多行注释\n",
    "'''\n",
    "\n",
    "print(\"上面是一个多行注释，不运行\")"
   ]
  },
  {
   "cell_type": "markdown",
   "id": "3c337666",
   "metadata": {},
   "source": [
    "### * 关于缩进 Python代码对缩进的要求非常严格，"
   ]
  },
  {
   "cell_type": "code",
   "execution_count": 138,
   "id": "56cf1f09",
   "metadata": {},
   "outputs": [
    {
     "ename": "SyntaxError",
     "evalue": "invalid syntax (676501319.py, line 11)",
     "output_type": "error",
     "traceback": [
      "\u001b[0;36m  File \u001b[0;32m\"/var/folders/dg/dyx6h6tx5q32mzmqz2w8q23c0000gn/T/ipykernel_6791/676501319.py\"\u001b[0;36m, line \u001b[0;32m11\u001b[0m\n\u001b[0;31m    else:\u001b[0m\n\u001b[0m    ^\u001b[0m\n\u001b[0;31mSyntaxError\u001b[0m\u001b[0;31m:\u001b[0m invalid syntax\n"
     ]
    }
   ],
   "source": [
    "# 缩进严格例子\n",
    "if True:\n",
    "    print('first tab')\n",
    "    \n",
    "    if True:\n",
    "        print('secont tab')\n",
    "    else:\n",
    "        print('second tab')\n",
    "        \n",
    "    #这个地方没有和第一个if 对齐，所以报错，对齐后则不报错\n",
    "    else:\n",
    "        print('first tab')"
   ]
  },
  {
   "cell_type": "markdown",
   "id": "b0610eb3",
   "metadata": {},
   "source": [
    "### * 关于Python中的关键字不能做变量问题"
   ]
  },
  {
   "cell_type": "code",
   "execution_count": 139,
   "id": "66932273",
   "metadata": {},
   "outputs": [
    {
     "data": {
      "text/plain": [
       "12"
      ]
     },
     "execution_count": 139,
     "metadata": {},
     "output_type": "execute_result"
    }
   ],
   "source": [
    "# python 里面关键字都是小写的 例如： if else while return for from or not 等等\n",
    "\n",
    "# 这些关键词，如果改成大写则不起作用，另外，在命名变量时，一定避开关键词，避免不必要的麻烦\n",
    "\n",
    "#如 定义变量的时候：\n",
    "\n",
    "# return = 12\n",
    "\n",
    "#上面的写法是不可以的，因为return是关键词，又叫保留词，不可以用作变量，但是，Return 是可以的\n",
    "\n",
    "Return = 12\n",
    "\n",
    "Return\n",
    "\n",
    "#但是依旧不建议这样去命名，会影响阅读，可以用 returnValue 这样的组合词。\n"
   ]
  },
  {
   "cell_type": "markdown",
   "id": "2ef100d2",
   "metadata": {},
   "source": [
    "# 2、常用的变量类型 "
   ]
  },
  {
   "cell_type": "markdown",
   "id": "e536864b",
   "metadata": {},
   "source": [
    "### * 数字"
   ]
  },
  {
   "cell_type": "code",
   "execution_count": 140,
   "id": "49ab704a",
   "metadata": {},
   "outputs": [
    {
     "data": {
      "text/plain": [
       "int"
      ]
     },
     "execution_count": 140,
     "metadata": {},
     "output_type": "execute_result"
    }
   ],
   "source": [
    "var1 = int()\n",
    "var1 = 12\n",
    "var1\n",
    "type(var1)"
   ]
  },
  {
   "cell_type": "code",
   "execution_count": 141,
   "id": "f6e85f68",
   "metadata": {},
   "outputs": [
    {
     "data": {
      "text/plain": [
       "['__abs__',\n",
       " '__add__',\n",
       " '__and__',\n",
       " '__bool__',\n",
       " '__ceil__',\n",
       " '__class__',\n",
       " '__delattr__',\n",
       " '__dir__',\n",
       " '__divmod__',\n",
       " '__doc__',\n",
       " '__eq__',\n",
       " '__float__',\n",
       " '__floor__',\n",
       " '__floordiv__',\n",
       " '__format__',\n",
       " '__ge__',\n",
       " '__getattribute__',\n",
       " '__getnewargs__',\n",
       " '__gt__',\n",
       " '__hash__',\n",
       " '__index__',\n",
       " '__init__',\n",
       " '__init_subclass__',\n",
       " '__int__',\n",
       " '__invert__',\n",
       " '__le__',\n",
       " '__lshift__',\n",
       " '__lt__',\n",
       " '__mod__',\n",
       " '__mul__',\n",
       " '__ne__',\n",
       " '__neg__',\n",
       " '__new__',\n",
       " '__or__',\n",
       " '__pos__',\n",
       " '__pow__',\n",
       " '__radd__',\n",
       " '__rand__',\n",
       " '__rdivmod__',\n",
       " '__reduce__',\n",
       " '__reduce_ex__',\n",
       " '__repr__',\n",
       " '__rfloordiv__',\n",
       " '__rlshift__',\n",
       " '__rmod__',\n",
       " '__rmul__',\n",
       " '__ror__',\n",
       " '__round__',\n",
       " '__rpow__',\n",
       " '__rrshift__',\n",
       " '__rshift__',\n",
       " '__rsub__',\n",
       " '__rtruediv__',\n",
       " '__rxor__',\n",
       " '__setattr__',\n",
       " '__sizeof__',\n",
       " '__str__',\n",
       " '__sub__',\n",
       " '__subclasshook__',\n",
       " '__truediv__',\n",
       " '__trunc__',\n",
       " '__xor__',\n",
       " 'as_integer_ratio',\n",
       " 'bit_length',\n",
       " 'conjugate',\n",
       " 'denominator',\n",
       " 'from_bytes',\n",
       " 'imag',\n",
       " 'numerator',\n",
       " 'real',\n",
       " 'to_bytes']"
      ]
     },
     "execution_count": 141,
     "metadata": {},
     "output_type": "execute_result"
    }
   ],
   "source": [
    "# dir()函数不带参数时，返回当前范围内的变量、方法和定义的类型列表；带参数时，返回参数的属性、方法列表\n",
    "dir(var1)"
   ]
  },
  {
   "cell_type": "code",
   "execution_count": 142,
   "id": "dfdb0f84",
   "metadata": {},
   "outputs": [
    {
     "data": {
      "text/plain": [
       "False"
      ]
     },
     "execution_count": 142,
     "metadata": {},
     "output_type": "execute_result"
    }
   ],
   "source": [
    "#举例 __eq__() 判断两个数是否相等\n",
    "result = var1.__eq__(14)\n",
    "result"
   ]
  },
  {
   "cell_type": "code",
   "execution_count": 143,
   "id": "3f9d0173",
   "metadata": {},
   "outputs": [
    {
     "data": {
      "text/plain": [
       "float"
      ]
     },
     "execution_count": 143,
     "metadata": {},
     "output_type": "execute_result"
    }
   ],
   "source": [
    "#浮点型\n",
    "var2 = 12.32\n",
    "type(var2)"
   ]
  },
  {
   "cell_type": "code",
   "execution_count": 144,
   "id": "349646df",
   "metadata": {},
   "outputs": [
    {
     "data": {
      "text/plain": [
       "complex"
      ]
     },
     "execution_count": 144,
     "metadata": {},
     "output_type": "execute_result"
    }
   ],
   "source": [
    "#复数\n",
    "var3 = 12j\n",
    "type(var3)"
   ]
  },
  {
   "cell_type": "code",
   "execution_count": 145,
   "id": "19383d3f",
   "metadata": {},
   "outputs": [
    {
     "ename": "SyntaxError",
     "evalue": "invalid syntax (37628377.py, line 2)",
     "output_type": "error",
     "traceback": [
      "\u001b[0;36m  File \u001b[0;32m\"/var/folders/dg/dyx6h6tx5q32mzmqz2w8q23c0000gn/T/ipykernel_6791/37628377.py\"\u001b[0;36m, line \u001b[0;32m2\u001b[0m\n\u001b[0;31m    var4 = 123L\u001b[0m\n\u001b[0m              ^\u001b[0m\n\u001b[0;31mSyntaxError\u001b[0m\u001b[0;31m:\u001b[0m invalid syntax\n"
     ]
    }
   ],
   "source": [
    "#python3 里面没有长整型了，所以定义长整型会报错,pyton2是可以的\n",
    "var4 = 123L"
   ]
  },
  {
   "cell_type": "code",
   "execution_count": 146,
   "id": "0ab75d58",
   "metadata": {},
   "outputs": [],
   "source": [
    "#以上类型都可以用dir() 方法去查看属性和方法列表，不一一赘述"
   ]
  },
  {
   "cell_type": "markdown",
   "id": "40b067f1",
   "metadata": {},
   "source": [
    "### * 字符串"
   ]
  },
  {
   "cell_type": "code",
   "execution_count": 147,
   "id": "1bcb8b45",
   "metadata": {},
   "outputs": [
    {
     "data": {
      "text/plain": [
       "str"
      ]
     },
     "execution_count": 147,
     "metadata": {},
     "output_type": "execute_result"
    }
   ],
   "source": [
    "#定义一个字符串\n",
    "string1 = \"asfadfaf\"\n",
    "type(string1)"
   ]
  },
  {
   "cell_type": "code",
   "execution_count": 148,
   "id": "f7624812",
   "metadata": {},
   "outputs": [
    {
     "data": {
      "text/plain": [
       "str"
      ]
     },
     "execution_count": 148,
     "metadata": {},
     "output_type": "execute_result"
    }
   ],
   "source": [
    "# 单引号也可以\n",
    "string2 = 'sadfafd'\n",
    "type(string2)"
   ]
  },
  {
   "cell_type": "code",
   "execution_count": 149,
   "id": "5e2e9378",
   "metadata": {},
   "outputs": [
    {
     "data": {
      "text/plain": [
       "str"
      ]
     },
     "execution_count": 149,
     "metadata": {},
     "output_type": "execute_result"
    }
   ],
   "source": [
    "# 三引号也可以\n",
    "string3 = '''wowowo'''\n",
    "string4 = \"\"\"sdfasdfasfda\"\"\"\n",
    "type(string3)"
   ]
  },
  {
   "cell_type": "code",
   "execution_count": 150,
   "id": "e2eb1488",
   "metadata": {},
   "outputs": [
    {
     "name": "stdout",
     "output_type": "stream",
     "text": [
      "asfadfaf sadfafd wowowo sdfasdfasfda\n"
     ]
    }
   ],
   "source": [
    "print(string1,string2,string3,string4)"
   ]
  },
  {
   "cell_type": "code",
   "execution_count": 151,
   "id": "b30d8e0c",
   "metadata": {},
   "outputs": [
    {
     "name": "stdout",
     "output_type": "stream",
     "text": [
      "str1: python\n",
      "str2: \"python\"\n",
      "str3: 'python'\n",
      "str4: python\n",
      "str5: \"python\"\n",
      "str6: hello\n",
      "python\n",
      "str7: hello\n",
      "python\n"
     ]
    }
   ],
   "source": [
    "#单引号\n",
    "str1='python'\n",
    "#单引号中使用双引号\n",
    "str2='\"python\"'\n",
    "#双引号中使用单引号\n",
    "str3=\"'python'\"\n",
    "#三单引号\n",
    "str4='''python'''\n",
    "#三单引号中间使用双引号\n",
    "str5='''\"python\"'''\n",
    "#三单引号中有换行符\n",
    "str6='''hello\n",
    "python'''\n",
    "#三双引号中有换行符\n",
    "str7=\"\"\"hello\n",
    "python\"\"\"\n",
    "\n",
    "#str.format() 方法 字符串格式化方法，用str1来替换{0}\n",
    "print(\"str1: {0}\".format(str1))\n",
    "print(\"str2: {0}\".format(str2))\n",
    "print(\"str3: {0}\".format(str3))\n",
    "print(\"str4: {0}\".format(str4))\n",
    "print(\"str5: {0}\".format(str5))\n",
    "print(\"str6: {0}\".format(str6))\n",
    "print(\"str7: {0}\".format(str6))"
   ]
  },
  {
   "cell_type": "markdown",
   "id": "6bc8fde0",
   "metadata": {},
   "source": [
    "结论：\n",
    "\n",
    "（1）单引号中可以使用双引号，中间的会当作字符串输出\n",
    "\n",
    "（2）双引号中可以使用单引号，中间的会当作字符串输出\n",
    "\n",
    "（3）三单引号和三双引号中间的字符串在输出时保持原来的格式。\n"
   ]
  },
  {
   "cell_type": "code",
   "execution_count": 152,
   "id": "c4bcdf45",
   "metadata": {},
   "outputs": [
    {
     "data": {
      "text/plain": [
       "'a'"
      ]
     },
     "execution_count": 152,
     "metadata": {},
     "output_type": "execute_result"
    }
   ],
   "source": [
    "#字符串的截取\n",
    "#输出第一个字符\n",
    "string1[0]"
   ]
  },
  {
   "cell_type": "code",
   "execution_count": 153,
   "id": "8330e636",
   "metadata": {},
   "outputs": [
    {
     "data": {
      "text/plain": [
       "'asf'"
      ]
     },
     "execution_count": 153,
     "metadata": {},
     "output_type": "execute_result"
    }
   ],
   "source": [
    "#输出第1到第4个字符\n",
    "string1[0:3]"
   ]
  },
  {
   "cell_type": "code",
   "execution_count": 154,
   "id": "5080d485",
   "metadata": {},
   "outputs": [
    {
     "data": {
      "text/plain": [
       "'sfadfaf'"
      ]
     },
     "execution_count": 154,
     "metadata": {},
     "output_type": "execute_result"
    }
   ],
   "source": [
    "#输出从第2个开始以后的字符\n",
    "string1[1:]"
   ]
  },
  {
   "cell_type": "code",
   "execution_count": 155,
   "id": "7ed01915",
   "metadata": {},
   "outputs": [
    {
     "data": {
      "text/plain": [
       "'asfadfafasfadfaf'"
      ]
     },
     "execution_count": 155,
     "metadata": {},
     "output_type": "execute_result"
    }
   ],
   "source": [
    "#输出字符串两次\n",
    "string1 *2"
   ]
  },
  {
   "cell_type": "code",
   "execution_count": 156,
   "id": "8f8d5bfa",
   "metadata": {},
   "outputs": [
    {
     "data": {
      "text/plain": [
       "'asfadfafwowowo'"
      ]
     },
     "execution_count": 156,
     "metadata": {},
     "output_type": "execute_result"
    }
   ],
   "source": [
    "#字符串拼接\n",
    "string1 + string3\n"
   ]
  },
  {
   "cell_type": "markdown",
   "id": "0a7486ab",
   "metadata": {},
   "source": [
    "### * python 列表 list"
   ]
  },
  {
   "cell_type": "markdown",
   "id": "bc616bb8",
   "metadata": {},
   "source": [
    "\n",
    "List（列表） 是 Python 中使用最频繁的数据类型。\n",
    "\n",
    "列表可以完成大多数集合类的数据结构实现。它支持字符，数字，字符串甚至可以包含列表（即嵌套）。\n",
    "\n",
    "列表用 []标识，是 python 最通用的复合数据类型。\n",
    "\n",
    "列表中值的切割也可以用到变量 [头下标:尾下标] ，就可以截取相应的列表，从左到右索引默认 0 开始，从右到左索引默认 -1 开始，下标可以为空表示取到头或尾。\n"
   ]
  },
  {
   "cell_type": "code",
   "execution_count": 157,
   "id": "86659cfb",
   "metadata": {},
   "outputs": [
    {
     "name": "stdout",
     "output_type": "stream",
     "text": [
      "['runoob', 786, 2.23, 'john', 70.2]\n",
      "runoob\n",
      "[786, 2.23]\n",
      "[2.23, 'john', 70.2]\n",
      "[123, 'john', 123, 'john']\n",
      "['runoob', 786, 2.23, 'john', 70.2, 123, 'john']\n"
     ]
    }
   ],
   "source": [
    "list1 = [ 'runoob', 786 , 2.23, 'john', 70.2 ]\n",
    "tinylist = [123, 'john']\n",
    " \n",
    "print(list1)             # 输出完整列表\n",
    "print(list1[0])          # 输出列表的第一个元素\n",
    "print(list1[1:3])        # 输出第二个至第三个元素 \n",
    "print(list1[2:])         # 输出从第三个开始至列表末尾的所有元素\n",
    "print(tinylist * 2)      # 输出列表两次\n",
    "print(list1 + tinylist)  # 打印组合的列表"
   ]
  },
  {
   "cell_type": "markdown",
   "id": "8b0a545b",
   "metadata": {},
   "source": [
    "### * python元组 "
   ]
  },
  {
   "cell_type": "markdown",
   "id": "18cd06b3",
   "metadata": {},
   "source": [
    "元组是另一个数据类型，类似于 List（列表）。\n",
    "\n",
    "元组用 () 标识。内部元素用逗号隔开。但是元组不能二次赋值，相当于只读列表。"
   ]
  },
  {
   "cell_type": "code",
   "execution_count": 6,
   "id": "8f572bd6",
   "metadata": {},
   "outputs": [
    {
     "name": "stdout",
     "output_type": "stream",
     "text": [
      "('runoob', 786, 2.23, 'john', 70.2)\n",
      "runoob\n",
      "(786, 2.23)\n",
      "(2.23, 'john', 70.2)\n",
      "(123, 'john', 123, 'john')\n",
      "('runoob', 786, 2.23, 'john', 70.2, 123, 'john')\n"
     ]
    }
   ],
   "source": [
    "tuple1 = ( 'runoob', 786 , 2.23, 'john', 70.2 )\n",
    "tinytuple = (123, 'john')\n",
    " \n",
    "print(tuple1)                # 输出完整元组\n",
    "print(tuple1[0])             # 输出元组的第一个元素\n",
    "print(tuple1[1:3])           # 输出第二个至第四个（不包含）的元素 \n",
    "print(tuple1[2:])            # 输出从第三个开始至列表末尾的所有元素\n",
    "print(tinytuple * 2)        # 输出元组两次\n",
    "print(tuple1 + tinytuple)    # 打印组合的元组"
   ]
  },
  {
   "cell_type": "code",
   "execution_count": 7,
   "id": "7ace3795",
   "metadata": {},
   "outputs": [
    {
     "ename": "TypeError",
     "evalue": "'tuple' object does not support item assignment",
     "output_type": "error",
     "traceback": [
      "\u001b[0;31m---------------------------------------------------------------------------\u001b[0m",
      "\u001b[0;31mTypeError\u001b[0m                                 Traceback (most recent call last)",
      "\u001b[0;32m/var/folders/dg/dyx6h6tx5q32mzmqz2w8q23c0000gn/T/ipykernel_8092/677032192.py\u001b[0m in \u001b[0;36m<module>\u001b[0;34m\u001b[0m\n\u001b[1;32m      1\u001b[0m \u001b[0;31m#不允许更改其中的元素\u001b[0m\u001b[0;34m\u001b[0m\u001b[0;34m\u001b[0m\u001b[0;34m\u001b[0m\u001b[0m\n\u001b[0;32m----> 2\u001b[0;31m \u001b[0mtuple1\u001b[0m\u001b[0;34m[\u001b[0m\u001b[0;36m2\u001b[0m\u001b[0;34m]\u001b[0m \u001b[0;34m=\u001b[0m \u001b[0;36m13\u001b[0m\u001b[0;34m\u001b[0m\u001b[0;34m\u001b[0m\u001b[0m\n\u001b[0m\u001b[1;32m      3\u001b[0m \u001b[0mtuple1\u001b[0m\u001b[0;34m\u001b[0m\u001b[0;34m\u001b[0m\u001b[0m\n",
      "\u001b[0;31mTypeError\u001b[0m: 'tuple' object does not support item assignment"
     ]
    }
   ],
   "source": [
    "#不允许更改其中的元素\n",
    "tuple1[2] = 13\n",
    "tuple1"
   ]
  },
  {
   "cell_type": "code",
   "execution_count": 10,
   "id": "9ffd0d73",
   "metadata": {},
   "outputs": [
    {
     "name": "stdout",
     "output_type": "stream",
     "text": [
      "4766674192\n",
      "('oob', 6, 23, 'bob', 0.2) 4766674832\n"
     ]
    }
   ],
   "source": [
    "print(id(tuple1))\n",
    "#但是可以被覆盖，准确来说是重新赋值，地址会变\n",
    "tuple1 = ( 'oob', 6 , 23, 'bob', 0.2 )\n",
    "print(tuple1,id(tuple1))"
   ]
  },
  {
   "cell_type": "code",
   "execution_count": 11,
   "id": "86d2cb02",
   "metadata": {},
   "outputs": [
    {
     "name": "stdout",
     "output_type": "stream",
     "text": [
      "('sadf', 234, ('sdf', 0.097))\n"
     ]
    },
    {
     "data": {
      "text/plain": [
       "tuple"
      ]
     },
     "execution_count": 11,
     "metadata": {},
     "output_type": "execute_result"
    }
   ],
   "source": [
    "#可以嵌套\n",
    "tuple2 = ('sadf',234,('sdf',0.097))\n",
    "print(tuple2)\n",
    "type(tuple2[2])"
   ]
  },
  {
   "cell_type": "markdown",
   "id": "bc20b1db",
   "metadata": {},
   "source": [
    "### * pythn 字典 dictionary"
   ]
  },
  {
   "cell_type": "markdown",
   "id": "80ecb5e3",
   "metadata": {},
   "source": [
    "字典(dictionary)是除列表以外python之中最灵活的内置数据结构类型。列表是有序的对象集合，字典是无序的对象集合。\n",
    "\n",
    "两者之间的区别在于：字典当中的元素是通过键来存取的，而不是通过偏移存取。\n",
    "\n",
    "字典用\"{ }\"标识。字典由索引(key)和它对应的值value组成。\n",
    "\n",
    "PS: dic 同样是可以嵌套的"
   ]
  },
  {
   "cell_type": "code",
   "execution_count": 162,
   "id": "a79e62fe",
   "metadata": {},
   "outputs": [
    {
     "name": "stdout",
     "output_type": "stream",
     "text": [
      "{'one': 'This is one', 2: 'This is two'}\n",
      "This is one\n",
      "This is two\n",
      "{'name': 'runoob', 'code': 6734, 'dept': 'sales'}\n",
      "dict_keys(['name', 'code', 'dept'])\n",
      "dict_values(['runoob', 6734, 'sales'])\n"
     ]
    }
   ],
   "source": [
    "dict1 = {}\n",
    "dict1['one'] = \"This is one\"\n",
    "dict1[2] = \"This is two\"\n",
    " \n",
    "tinydict = {'name': 'runoob','code':6734, 'dept': 'sales'}\n",
    "\n",
    "print(dict1)                 # 输出dict1\n",
    "print(dict1['one'])          # 输出键为'one' 的值\n",
    "print(dict1[2])              # 输出键为 2 的值\n",
    "print(tinydict)              # 输出完整的字典\n",
    "print(tinydict.keys())       # 输出所有键\n",
    "print(tinydict.values())     # 输出所有值"
   ]
  },
  {
   "cell_type": "markdown",
   "id": "b9c9fa2e",
   "metadata": {},
   "source": [
    "##### [tuple list dictionary set 区别和使用可看这个博客](https://www.cnblogs.com/jfl-xx/p/7115854.html)"
   ]
  },
  {
   "cell_type": "markdown",
   "id": "f2c804bf",
   "metadata": {},
   "source": [
    "# 3、运算符"
   ]
  },
  {
   "cell_type": "markdown",
   "id": "c957d59c",
   "metadata": {},
   "source": [
    "###  * 关于运算符需要注意的几个点"
   ]
  },
  {
   "cell_type": "code",
   "execution_count": 12,
   "id": "c70b29aa",
   "metadata": {},
   "outputs": [
    {
     "name": "stdout",
     "output_type": "stream",
     "text": [
      "False\n",
      "True\n"
     ]
    }
   ],
   "source": [
    "# python 里面的’与‘ 和  ’或‘  ’非‘ ，运算用的是 and / or / not\n",
    "\n",
    "a = 1 \n",
    "b = 0 \n",
    "if a and b :\n",
    "    print(True)\n",
    "else:\n",
    "    print(False)\n",
    "    \n",
    "if not(a and b ):\n",
    "    print(True)\n",
    "else :\n",
    "    print(False)"
   ]
  },
  {
   "cell_type": "code",
   "execution_count": 13,
   "id": "e6cfee2a",
   "metadata": {},
   "outputs": [
    {
     "name": "stdout",
     "output_type": "stream",
     "text": [
      "True\n"
     ]
    }
   ],
   "source": [
    "if a or b :\n",
    "    print(True)\n",
    "else:\n",
    "    print(False)"
   ]
  },
  {
   "cell_type": "code",
   "execution_count": 14,
   "id": "4bf8b9da",
   "metadata": {},
   "outputs": [
    {
     "name": "stdout",
     "output_type": "stream",
     "text": [
      "True\n",
      "True\n"
     ]
    }
   ],
   "source": [
    "# is 和 == 的区别：is 用于判断两个变量引用对象是否为同一个(同一块内存空间)， == 用于判断引用变量的值是否相等。\n",
    "# 那么同样的 is not 和  != 也是一样的道理\n",
    "\n",
    "a = 12\n",
    "b = a \n",
    "if b is a :\n",
    "    print(True)\n",
    "else :\n",
    "    print(False)\n",
    "\n",
    "if a == b :\n",
    "    print(True)\n",
    "else :\n",
    "    print(False)"
   ]
  },
  {
   "cell_type": "code",
   "execution_count": 15,
   "id": "aee4ec1a",
   "metadata": {},
   "outputs": [
    {
     "name": "stdout",
     "output_type": "stream",
     "text": [
      "4308478608 4308478608\n",
      "False\n",
      "True\n",
      "False\n"
     ]
    }
   ],
   "source": [
    "#注意，如果这里直接给c赋值12，为了节省内存，python 会自动将a 的地址指向 c\n",
    "c = 12\n",
    "print(id(a),id(c))\n",
    "#所以给c赋值时改变其类型，就可以分配新的内存地址\n",
    "c = 12.00\n",
    "if c is a :\n",
    "    print(True)\n",
    "else :\n",
    "    print(False)\n",
    "\n",
    "# 这里同样也说明了，== 只校验值的大小，而不会校验数据类型\n",
    "if c == a :\n",
    "    print(True)\n",
    "else :\n",
    "    print(False)\n",
    "\n",
    "# 所以如果想同时校验两个变量的值 和类型的话，就要使用type 函数或其他方法\n",
    "if c == a and type(c) == type(a) :\n",
    "    print(True)\n",
    "else :\n",
    "    print(False)"
   ]
  },
  {
   "cell_type": "code",
   "execution_count": 167,
   "id": "6150b516",
   "metadata": {},
   "outputs": [
    {
     "name": "stdout",
     "output_type": "stream",
     "text": [
      "4511949440 4511949440\n",
      "4511949440 4514319488\n",
      "<class 'list'> <class 'list'>\n",
      "[32, 12, 3, 12, 3] [32, 12, 3, 12, 3]\n",
      "False\n"
     ]
    }
   ],
   "source": [
    "# 哪怕是变量的值和类型一模一样，分配的内存不一样，用 is 判断也是 False\n",
    "m = [32,12,3,12,3]\n",
    "n = m\n",
    "print(id(m),id(n))\n",
    "n = m[:]\n",
    "print(id(m),id(n))\n",
    "print(type(m),type(n))\n",
    "print(m,n)\n",
    "print(m is n)"
   ]
  },
  {
   "cell_type": "code",
   "execution_count": 168,
   "id": "ff68d492",
   "metadata": {},
   "outputs": [
    {
     "name": "stdout",
     "output_type": "stream",
     "text": [
      " 只校验值\n",
      "还校验地址\n"
     ]
    }
   ],
   "source": [
    "list1 = [12,12,3,4,3]\n",
    "list2 = [12.00,12,3,4,3]\n",
    "if list1 == list2 :\n",
    "    print(' 只校验值')\n",
    "else :\n",
    "    print(\"还校验地址\")\n",
    "    \n",
    "if list1 is list2 :\n",
    "    print('不校验类型')\n",
    "else :\n",
    "    print(\"还校验地址\")"
   ]
  },
  {
   "cell_type": "code",
   "execution_count": 169,
   "id": "9fe9012c",
   "metadata": {},
   "outputs": [
    {
     "data": {
      "text/plain": [
       "2"
      ]
     },
     "execution_count": 169,
     "metadata": {},
     "output_type": "execute_result"
    }
   ],
   "source": [
    "# 在python 是没有 ++ 自加运算符的，一般用 += 来替代，其他的 *=  /=  -= 都是一样的用法\n",
    "a = 1\n",
    "a +=1\n",
    "a"
   ]
  },
  {
   "cell_type": "markdown",
   "id": "e35df276",
   "metadata": {},
   "source": [
    "以上便是运算符，在实际编程中，需要注意运算符的优先级，不记得要看手册，否则会出现不必要的bug"
   ]
  },
  {
   "cell_type": "markdown",
   "id": "7d335a56",
   "metadata": {},
   "source": [
    "# 4、循环 和 条件运算"
   ]
  },
  {
   "cell_type": "code",
   "execution_count": 170,
   "id": "0972dc51",
   "metadata": {},
   "outputs": [],
   "source": [
    "# 在python 里面 条件运算就是 if else  ，别的语言里面还有switch，但是Python里面没有\n",
    "# if else 没有什么好说的，注意是嵌套时一定要注意缩进对齐"
   ]
  },
  {
   "cell_type": "code",
   "execution_count": 171,
   "id": "919e798f",
   "metadata": {},
   "outputs": [
    {
     "name": "stdout",
     "output_type": "stream",
     "text": [
      "b小于3\n",
      "0\n",
      "b小于3\n",
      "1\n",
      "b小于3\n",
      "2\n",
      "b > 3\n"
     ]
    }
   ],
   "source": [
    "#循环  有 for while以及二者的嵌套\n",
    "#需要注意的是，while 一般是用来做算数运算条件的循环，如：\n",
    "a = 3\n",
    "b = 0 \n",
    "while a > b :\n",
    "    print('b小于3')\n",
    "    print(b)\n",
    "    b +=1\n",
    "else:\n",
    "    print('b > 3')"
   ]
  },
  {
   "cell_type": "code",
   "execution_count": 172,
   "id": "3849598e",
   "metadata": {},
   "outputs": [
    {
     "name": "stdout",
     "output_type": "stream",
     "text": [
      "P\n",
      "y\n",
      "t\n",
      "h\n",
      "o\n",
      "n\n"
     ]
    }
   ],
   "source": [
    "# 而for 则是是用来遍历一个集合的（包括字符串）\n",
    "for letter in 'Python':\n",
    "    print(letter)"
   ]
  },
  {
   "cell_type": "code",
   "execution_count": 173,
   "id": "b238e21b",
   "metadata": {},
   "outputs": [
    {
     "name": "stdout",
     "output_type": "stream",
     "text": [
      "12\n",
      "2\n",
      "3\n",
      "23\n",
      "4\n",
      "6\n"
     ]
    }
   ],
   "source": [
    "list = [12,2,3,23,4,6]\n",
    "for item in list :\n",
    "    print(item)"
   ]
  },
  {
   "cell_type": "code",
   "execution_count": 174,
   "id": "7cc37a57",
   "metadata": {},
   "outputs": [
    {
     "name": "stdout",
     "output_type": "stream",
     "text": [
      "10 等于 2 * 5\n",
      "11 是一个质数\n",
      "12 等于 2 * 6\n",
      "13 是一个质数\n",
      "14 等于 2 * 7\n"
     ]
    }
   ],
   "source": [
    "# 在 python 中，for … else 表示这样的意思，for 中的语句和普通的没有区别，else 中的语句会在循环正常执行完\n",
    "#（即 for 不是通过 break 跳出而中断的）的情况下执行，while … else 也是一样。\n",
    "for num in range(10,15):  # 迭代 10 到 15 之间的数字\n",
    "   for i in range(2,num): # 根据因子迭代\n",
    "      if num%i == 0:      # 确定第一个因子\n",
    "         j=num/i          # 计算第二个因子\n",
    "         print ('%d 等于 %d * %d' % (num,i,j))\n",
    "         break            # 跳出当前循环\n",
    "   else:                  # 循环的 else 部分\n",
    "      print ('%d 是一个质数' % num)"
   ]
  },
  {
   "cell_type": "code",
   "execution_count": 175,
   "id": "6cacc6d6",
   "metadata": {},
   "outputs": [],
   "source": [
    "# break continue pass\n",
    "\n",
    "\n",
    "#break 在语句块执行过程中终止循环，并且跳出整个循环\n",
    "\n",
    "#continue 在语句块执行过程中终止当前循环，跳出该次循环，执行下一次循环\n",
    "\n",
    "#pass pass是空语句，是为了保持程序结构的完整性。\n"
   ]
  },
  {
   "cell_type": "markdown",
   "id": "996d0b2c",
   "metadata": {},
   "source": [
    "# 5、字符类型常用操作方法学习 "
   ]
  },
  {
   "cell_type": "markdown",
   "id": "b0cafb90",
   "metadata": {},
   "source": [
    "### 字符串 "
   ]
  },
  {
   "cell_type": "code",
   "execution_count": 176,
   "id": "5e3b5e0f",
   "metadata": {},
   "outputs": [
    {
     "name": "stdout",
     "output_type": "stream",
     "text": [
      "-1\n",
      "6\n",
      "6\n",
      "-1\n"
     ]
    }
   ],
   "source": [
    "#find() 检测字符串是否包含，返回该字符串位置，如果不包含返回-1\n",
    "str1 = 'Hello World'\n",
    "print(str1.find('R'))\n",
    "print(str1.find('W'))\n",
    "print(str1.find('World'))\n",
    "print(str1.find('Word'))"
   ]
  },
  {
   "cell_type": "code",
   "execution_count": 177,
   "id": "e7d7dcb5",
   "metadata": {},
   "outputs": [
    {
     "data": {
      "text/plain": [
       "11"
      ]
     },
     "execution_count": 177,
     "metadata": {},
     "output_type": "execute_result"
    }
   ],
   "source": [
    "#len() 返回字符串长度,以0开始计算\n",
    "len(str1)"
   ]
  },
  {
   "cell_type": "code",
   "execution_count": 178,
   "id": "70a255a5",
   "metadata": {},
   "outputs": [
    {
     "data": {
      "text/plain": [
       "'Hey World'"
      ]
     },
     "execution_count": 178,
     "metadata": {},
     "output_type": "execute_result"
    }
   ],
   "source": [
    "#replace() 替换字符串\n",
    "str1.replace('Hello','Hey')"
   ]
  },
  {
   "cell_type": "code",
   "execution_count": 179,
   "id": "6304edc9",
   "metadata": {},
   "outputs": [
    {
     "data": {
      "text/plain": [
       "['123', '34', '88', '234']"
      ]
     },
     "execution_count": 179,
     "metadata": {},
     "output_type": "execute_result"
    }
   ],
   "source": [
    "#split() 字符串切割,以某个字符切割，返回列表\n",
    "str2 = '123+34+88+234'\n",
    "str2.split(\"+\")"
   ]
  },
  {
   "cell_type": "code",
   "execution_count": 180,
   "id": "5cf99010",
   "metadata": {},
   "outputs": [],
   "source": [
    "#join() 方法用于将指定字符分别插入一个字符串每两个字符之间，形成一个新字符串"
   ]
  },
  {
   "cell_type": "code",
   "execution_count": 181,
   "id": "c4fefdad",
   "metadata": {},
   "outputs": [
    {
     "name": "stdout",
     "output_type": "stream",
     "text": [
      "WOCOL\n"
     ]
    },
    {
     "data": {
      "text/plain": [
       "['我', '是', '一', '个', '好', '孩', '子']"
      ]
     },
     "execution_count": 181,
     "metadata": {},
     "output_type": "execute_result"
    }
   ],
   "source": [
    "str3 = \"O\"\n",
    "str4 = \"WCL\"\n",
    "print(str3.join(str4))\n",
    "#这个方法可以用来配合分割字符串，比如\n",
    "str5 = '我是一个好孩子'\n",
    "str3.join(str5).split('O')"
   ]
  },
  {
   "cell_type": "markdown",
   "id": "9fd92cb7",
   "metadata": {},
   "source": [
    "### 元组 "
   ]
  },
  {
   "cell_type": "code",
   "execution_count": 182,
   "id": "0a15b735",
   "metadata": {},
   "outputs": [
    {
     "name": "stdout",
     "output_type": "stream",
     "text": [
      "4\n",
      "1\n"
     ]
    }
   ],
   "source": [
    "#计算某个元素的个数 比较两个元组\n",
    "tuple1 = (1,1,1,1,2,3,'a',(1,2))\n",
    "print(tuple1.count(1))\n",
    "print(tuple1.count((1,2)))"
   ]
  },
  {
   "cell_type": "code",
   "execution_count": 183,
   "id": "81af16ec",
   "metadata": {},
   "outputs": [
    {
     "name": "stdout",
     "output_type": "stream",
     "text": [
      "4\n",
      "6\n"
     ]
    }
   ],
   "source": [
    "#返回元组某个元素第一次出现位置的索引，也可以规定是从哪个位置开始，到哪个位置结束\n",
    "print(tuple1.index(2))\n",
    "print(tuple1.index('a',5,7))"
   ]
  },
  {
   "cell_type": "code",
   "execution_count": 184,
   "id": "18bd40e0",
   "metadata": {},
   "outputs": [
    {
     "name": "stdout",
     "output_type": "stream",
     "text": [
      "9 不存在与于tuple1\n"
     ]
    }
   ],
   "source": [
    "#如果不存在会报错,所以必须用异常处理来判断\n",
    "try:\n",
    "    tuple1.index(9)\n",
    "except:\n",
    "    print('9 不存在与于tuple1')"
   ]
  },
  {
   "cell_type": "code",
   "execution_count": 185,
   "id": "c193607e",
   "metadata": {},
   "outputs": [
    {
     "name": "stdout",
     "output_type": "stream",
     "text": [
      "123\n",
      "1\n"
     ]
    }
   ],
   "source": [
    "#如果tuple里面都是数字，可以用max min 返回最大最小值\n",
    "tuple2 = (2,3,123,1,23,)\n",
    "print(max(tuple2))\n",
    "print(min(tuple2))"
   ]
  },
  {
   "cell_type": "code",
   "execution_count": 186,
   "id": "4a245388",
   "metadata": {},
   "outputs": [
    {
     "name": "stdout",
     "output_type": "stream",
     "text": [
      "8\n"
     ]
    }
   ],
   "source": [
    "#len 可以返回tuple的长度\n",
    "print(len(tuple1))"
   ]
  },
  {
   "cell_type": "code",
   "execution_count": 187,
   "id": "0b0b011b",
   "metadata": {},
   "outputs": [
    {
     "data": {
      "text/plain": [
       "(12, 12, 3, 4, 3)"
      ]
     },
     "execution_count": 187,
     "metadata": {},
     "output_type": "execute_result"
    }
   ],
   "source": [
    "#tuple()可以将列表转换为元组\n",
    "tuple3 = tuple(list1)\n",
    "tuple3"
   ]
  },
  {
   "cell_type": "markdown",
   "id": "0f4182af",
   "metadata": {},
   "source": [
    "###  列表 "
   ]
  },
  {
   "cell_type": "code",
   "execution_count": 203,
   "id": "fae0ac26",
   "metadata": {},
   "outputs": [
    {
     "data": {
      "text/plain": [
       "['12', '3', 'sdf', 'ddd']"
      ]
     },
     "execution_count": 203,
     "metadata": {},
     "output_type": "execute_result"
    }
   ],
   "source": [
    "#list.append(obj)：在列表末尾添加新的对象\n",
    "list3 = ['12','3','sdf']\n",
    "list3.append('ddd')\n",
    "list3"
   ]
  },
  {
   "cell_type": "code",
   "execution_count": 204,
   "id": "aae3913b",
   "metadata": {},
   "outputs": [
    {
     "data": {
      "text/plain": [
       "1"
      ]
     },
     "execution_count": 204,
     "metadata": {},
     "output_type": "execute_result"
    }
   ],
   "source": [
    "#list.count(obj)：统计某个元素在列表中出现的次数\n",
    "list3.count('ddd')"
   ]
  },
  {
   "cell_type": "code",
   "execution_count": 205,
   "id": "851d7db5",
   "metadata": {},
   "outputs": [
    {
     "data": {
      "text/plain": [
       "['12', '3', 'sdf', 'ddd', 33, 44, 55]"
      ]
     },
     "execution_count": 205,
     "metadata": {},
     "output_type": "execute_result"
    }
   ],
   "source": [
    "#list.extend(seq)：在列表末尾一次性追加另一个序列中的多个值（用新列表扩展原来的列表）\n",
    "list4 = [33,44,55]\n",
    "list3.extend(list4)\n",
    "list3"
   ]
  },
  {
   "cell_type": "code",
   "execution_count": 206,
   "id": "f0a7a422",
   "metadata": {},
   "outputs": [
    {
     "data": {
      "text/plain": [
       "1"
      ]
     },
     "execution_count": 206,
     "metadata": {},
     "output_type": "execute_result"
    }
   ],
   "source": [
    "#list.index(obj)：从列表中找出某个值第一个匹配项的索引位置\n",
    "list3.index('3')"
   ]
  },
  {
   "cell_type": "code",
   "execution_count": 207,
   "id": "b03ff2ef",
   "metadata": {},
   "outputs": [
    {
     "data": {
      "text/plain": [
       "['12', 'www', '3', 'sdf', 'ddd', 33, 44, 55]"
      ]
     },
     "execution_count": 207,
     "metadata": {},
     "output_type": "execute_result"
    }
   ],
   "source": [
    "#list.insert(index, obj)：将对象插入列表,index是插入位置\n",
    "#PS:重复运行会多次插入\n",
    "list3.insert(1,'www')\n",
    "list3"
   ]
  },
  {
   "cell_type": "code",
   "execution_count": 208,
   "id": "78dff3c1",
   "metadata": {},
   "outputs": [
    {
     "name": "stdout",
     "output_type": "stream",
     "text": [
      "55\n"
     ]
    }
   ],
   "source": [
    "#list.pop(obj=list[-1])：移除列表中的一个元素（默认最后一个元素），并且返回该元素的值\n",
    "print(list3.pop())"
   ]
  },
  {
   "cell_type": "code",
   "execution_count": 209,
   "id": "75c6d3df",
   "metadata": {},
   "outputs": [
    {
     "data": {
      "text/plain": [
       "['12', 'www', '3', 'sdf', 33, 44]"
      ]
     },
     "execution_count": 209,
     "metadata": {},
     "output_type": "execute_result"
    }
   ],
   "source": [
    "#list.remove(obj)：移除列表中某个值的第一个匹配项\n",
    "list3.remove('ddd')\n",
    "list3\n",
    "#ps:如果要移除的元素不存在会报错，所以正式代码里面最好用异常处理"
   ]
  },
  {
   "cell_type": "code",
   "execution_count": 210,
   "id": "189c2b3b",
   "metadata": {},
   "outputs": [
    {
     "data": {
      "text/plain": [
       "[44, 33, 'sdf', '3', 'www', '12']"
      ]
     },
     "execution_count": 210,
     "metadata": {},
     "output_type": "execute_result"
    }
   ],
   "source": [
    "#list.reverse()：反向列表中元素\n",
    "list3.reverse()\n",
    "list3"
   ]
  },
  {
   "cell_type": "code",
   "execution_count": 213,
   "id": "47f32ffa",
   "metadata": {},
   "outputs": [
    {
     "data": {
      "text/plain": [
       "[2, 2, 3, 4, 21, 23, 31, 2333, 12322]"
      ]
     },
     "execution_count": 213,
     "metadata": {},
     "output_type": "execute_result"
    }
   ],
   "source": [
    "#list.sort([func])：对原列表进行排序\n",
    "list4 = [2,3,4,2,31,23,12322,2333,21]\n",
    "list4.sort()\n",
    "list4"
   ]
  },
  {
   "cell_type": "code",
   "execution_count": 216,
   "id": "4c32656e",
   "metadata": {},
   "outputs": [
    {
     "data": {
      "text/plain": [
       "[12322, 2333, 31, 23, 21, 4, 3, 2, 2]"
      ]
     },
     "execution_count": 216,
     "metadata": {},
     "output_type": "execute_result"
    }
   ],
   "source": [
    "#如果要降序可以设定参数，但是只能排同类型的\n",
    "list4.sort(reverse=True)\n",
    "list4"
   ]
  },
  {
   "cell_type": "code",
   "execution_count": 219,
   "id": "0dfa6d86",
   "metadata": {},
   "outputs": [
    {
     "data": {
      "text/plain": [
       "['a', 'd', 'li', 'zas']"
      ]
     },
     "execution_count": 219,
     "metadata": {},
     "output_type": "execute_result"
    }
   ],
   "source": [
    "#字符串也可以排，但是字符串和数字，不可以排\n",
    "list5 = ['a','d','zas','li']\n",
    "list5.sort()\n",
    "list5"
   ]
  },
  {
   "cell_type": "markdown",
   "id": "600402f6",
   "metadata": {},
   "source": [
    "### 字典"
   ]
  },
  {
   "cell_type": "code",
   "execution_count": 236,
   "id": "7188ba2e",
   "metadata": {},
   "outputs": [
    {
     "name": "stdout",
     "output_type": "stream",
     "text": [
      "Bob\n",
      "None\n"
     ]
    }
   ],
   "source": [
    "# get() 返回指定键的值，如果值不在字典中返回default值none\n",
    "dic1 = {'name':'Bob','age':13,'sex':'male','identity':'student'}\n",
    "name = dic1.get('name')\n",
    "print(name)\n",
    "print(dic1.get('job'))"
   ]
  },
  {
   "cell_type": "code",
   "execution_count": 232,
   "id": "05a919c5",
   "metadata": {},
   "outputs": [
    {
     "name": "stdout",
     "output_type": "stream",
     "text": [
      "Bob\n",
      "13\n",
      "male\n",
      "student\n"
     ]
    }
   ],
   "source": [
    "# items()以列表返回可遍历的(键, 值) 元组数组\n",
    "list_dic = dic1.items()\n",
    "list_dic\n",
    "for item in list_dic :\n",
    "    print(item[1])"
   ]
  },
  {
   "cell_type": "code",
   "execution_count": 233,
   "id": "bf6ab30e",
   "metadata": {},
   "outputs": [
    {
     "data": {
      "text/plain": [
       "dict_keys(['name', 'age', 'sex', 'identity'])"
      ]
     },
     "execution_count": 233,
     "metadata": {},
     "output_type": "execute_result"
    }
   ],
   "source": [
    "#keys()以列表返回一个字典所有的键\n",
    "dic1.keys()"
   ]
  },
  {
   "cell_type": "code",
   "execution_count": 235,
   "id": "96635735",
   "metadata": {},
   "outputs": [
    {
     "data": {
      "text/plain": [
       "dict_values(['Bob', 13, 'male', 'student'])"
      ]
     },
     "execution_count": 235,
     "metadata": {},
     "output_type": "execute_result"
    }
   ],
   "source": [
    "#values()  以列表返回字典中的所有值\n",
    "dic1.values()"
   ]
  },
  {
   "cell_type": "code",
   "execution_count": 238,
   "id": "8f4820d6",
   "metadata": {},
   "outputs": [
    {
     "data": {
      "text/plain": [
       "{'age': 13, 'sex': 'male', 'identity': 'student'}"
      ]
     },
     "execution_count": 238,
     "metadata": {},
     "output_type": "execute_result"
    }
   ],
   "source": [
    "#pop() 删除字典给定键 key 所对应的值，返回值为被删除的值。key值必须给出。 否则，返回default值\n",
    "dic1.pop('name')\n",
    "dic1"
   ]
  },
  {
   "cell_type": "code",
   "execution_count": 240,
   "id": "b895f951",
   "metadata": {},
   "outputs": [
    {
     "data": {
      "text/plain": [
       "{'name': 'wade', 'age': '33', 'work': 'basketplayer'}"
      ]
     },
     "execution_count": 240,
     "metadata": {},
     "output_type": "execute_result"
    }
   ],
   "source": [
    "#update() 更新字典信息，如果没有则添加\n",
    "info ={'name':'jamnes','age':'32','work':'basketplayer'}\n",
    "info2 = {'name':'wade','age':'33','work':'basketplayer'}\n",
    "info.update(info2)\n",
    "info"
   ]
  },
  {
   "cell_type": "code",
   "execution_count": 241,
   "id": "d69372e8",
   "metadata": {},
   "outputs": [
    {
     "name": "stdout",
     "output_type": "stream",
     "text": [
      "{'name': 'jamnes', 'age': '32', 'work': 'basketplayer', 'honor': '3 champions'}\n"
     ]
    }
   ],
   "source": [
    "info ={'name':'jamnes','age':'32','work':'basketplayer'}\n",
    "info2 = {'honor':'3 champions'}\n",
    "info.update(info2)\n",
    "print(info)"
   ]
  },
  {
   "cell_type": "markdown",
   "id": "ab67b9b5",
   "metadata": {},
   "source": [
    "#  6、函数"
   ]
  },
  {
   "cell_type": "markdown",
   "id": "29520a94",
   "metadata": {},
   "source": [
    "### 定义一个函数 "
   ]
  },
  {
   "cell_type": "code",
   "execution_count": 258,
   "id": "8a721095",
   "metadata": {},
   "outputs": [
    {
     "name": "stdout",
     "output_type": "stream",
     "text": [
      "['asdf', 'afas', 'wef', 123]\n"
     ]
    }
   ],
   "source": [
    "def listAdd(objectList,item):\n",
    "    objectList.append(item)\n",
    "    return objectList\n",
    "list6 = ['asdf','afas','wef']\n",
    "list6 = listAdd(list6,123)\n",
    "print(list6)"
   ]
  },
  {
   "cell_type": "markdown",
   "id": "affdaedb",
   "metadata": {},
   "source": [
    "### 可更改(mutable)与不可更改(immutable)对象"
   ]
  },
  {
   "cell_type": "markdown",
   "id": "36d432cc",
   "metadata": {},
   "source": [
    "  \n",
    "\n",
    "在 python 中，strings, tuples, 和 numbers 是不可更改的对象，而 list,dict 等则是可以修改的对象。  \n",
    "\n",
    "不可变类型：变量赋值 a=5 后再赋值 a=10，这里实际是新生成一个 int 值对象 10，再让 a 指向它，而 5 被丢弃，不是改变a的值，相当于新生成了a。 \n",
    "\n",
    "可变类型：变量赋值 la=[1,2,3,4] 后再赋值 la[2]=5 则是将 list la 的第三个元素值更改，本身la没有动，只是其内部的一部分值被修改了。  \n",
    "\n",
    "python 函数的参数传递：  \n",
    "\n",
    "不可变类型：类似 c++ 的值传递，如 整数、字符串、元组。如fun（a），传递的只是a的值，没有影响a对象本身。比如在 fun（a）内部修改 a 的值，只是修改另一个复制的对象，不会影响 a 本身。  \n",
    "\n",
    "可变类型：类似 c++ 的引用传递，如 列表，字典。如 fun（la），则是将 la 真正的传过去，修改后fun外部的la也会受影响\n",
    "python 中一切都是对象，严格意义我们不能说值传递还是引用传递，我们应该说传不可变对象和传可变对象。\n",
    "\n",
    "***综上所述，列表和字典是可变类型，其他是不可变类型***"
   ]
  },
  {
   "cell_type": "code",
   "execution_count": 262,
   "id": "c3390b34",
   "metadata": {},
   "outputs": [
    {
     "name": "stdout",
     "output_type": "stream",
     "text": [
      "2\n"
     ]
    }
   ],
   "source": [
    "#不可变类型传参\n",
    "def ChangeInt( a ):\n",
    "    a = 10\n",
    " \n",
    "b = 2\n",
    "ChangeInt(b)\n",
    "print(b) # 结果是 2"
   ]
  },
  {
   "cell_type": "code",
   "execution_count": 264,
   "id": "c487cb18",
   "metadata": {},
   "outputs": [
    {
     "name": "stdout",
     "output_type": "stream",
     "text": [
      "函数内取值:  [10, 20, 30, [1, 2, 3, 4]]\n",
      "函数外取值:  [10, 20, 30, [1, 2, 3, 4]]\n"
     ]
    }
   ],
   "source": [
    "#可变类型传参\n",
    "def changeme( mylist ):\n",
    "   \"修改传入的列表\"\n",
    "   mylist.append([1,2,3,4])\n",
    "   print(\"函数内取值: \", mylist)\n",
    "   return\n",
    " \n",
    "# 调用changeme函数\n",
    "mylist = [10,20,30]\n",
    "changeme( mylist )\n",
    "print(\"函数外取值: \", mylist)"
   ]
  },
  {
   "cell_type": "markdown",
   "id": "b0448755",
   "metadata": {},
   "source": [
    "### 必备参数"
   ]
  },
  {
   "cell_type": "code",
   "execution_count": 276,
   "id": "22a7a8cf",
   "metadata": {},
   "outputs": [
    {
     "name": "stdout",
     "output_type": "stream",
     "text": [
      "sdf\n"
     ]
    }
   ],
   "source": [
    "#必备参数须以正确的顺序传入函数。调用时的数量必须和声明时的一样。\n",
    "def printme( str ):\n",
    "   \"打印任何传入的字符串\"\n",
    "   print(str)\n",
    "   return\n",
    " \n",
    "#调用printme函数\n",
    "printme('sdf')"
   ]
  },
  {
   "cell_type": "markdown",
   "id": "cd686dfe",
   "metadata": {},
   "source": [
    "### 关键字参数"
   ]
  },
  {
   "cell_type": "code",
   "execution_count": 288,
   "id": "bc0d7b23",
   "metadata": {},
   "outputs": [
    {
     "name": "stdout",
     "output_type": "stream",
     "text": [
      "Name:  miki\n",
      "Age  50\n",
      "sex  male\n"
     ]
    }
   ],
   "source": [
    "#关键字参数和函数调用关系紧密，函数调用使用关键字参数来确定传入的参数值。\n",
    "#使用关键字参数允许函数调用时参数的顺序与声明时不一致，因为 Python 解释器能够用参数名匹配参数值。\n",
    "#以下实例在函数 printme() 调用时使用参数名：\n",
    "def printinfo( name, age , sex ):\n",
    "    #\"打印任何传入的字符串\"\n",
    "    print(\"Name: \", name)\n",
    "    print(\"Age \", age)\n",
    "    print(\"sex \", sex)\n",
    "    return\n",
    " \n",
    "#调用printinfo函数\n",
    "printinfo(age = 50,name = 'miki', sex='male')"
   ]
  },
  {
   "cell_type": "code",
   "execution_count": 291,
   "id": "6fdf211a",
   "metadata": {},
   "outputs": [
    {
     "ename": "SyntaxError",
     "evalue": "positional argument follows keyword argument (139710106.py, line 3)",
     "output_type": "error",
     "traceback": [
      "\u001b[0;36m  File \u001b[0;32m\"/var/folders/dg/dyx6h6tx5q32mzmqz2w8q23c0000gn/T/ipykernel_6791/139710106.py\"\u001b[0;36m, line \u001b[0;32m3\u001b[0m\n\u001b[0;31m    printinfo(sex = 'male','miki', age = 50)\u001b[0m\n\u001b[0m                                           ^\u001b[0m\n\u001b[0;31mSyntaxError\u001b[0m\u001b[0;31m:\u001b[0m positional argument follows keyword argument\n"
     ]
    }
   ],
   "source": [
    "#关键字参数和必备参数的区别就在于，传参时是否带有关键字，如果带，则按关键字匹配，如果不带，则顺序匹配\n",
    "#但如果是多参数，关键字参数必须放在必备参数后面，否则报错，如下\n",
    "printinfo(sex = 'male','miki', age = 50)"
   ]
  },
  {
   "cell_type": "code",
   "execution_count": 293,
   "id": "3426f156",
   "metadata": {},
   "outputs": [
    {
     "name": "stdout",
     "output_type": "stream",
     "text": [
      "Name:  miki\n",
      "Age  50\n",
      "sex  male\n"
     ]
    }
   ],
   "source": [
    "#调整顺序后不报错\n",
    "printinfo('miki',sex = 'male', age = 50)"
   ]
  },
  {
   "cell_type": "markdown",
   "id": "07f0a795",
   "metadata": {},
   "source": [
    "### 默认参数 "
   ]
  },
  {
   "cell_type": "code",
   "execution_count": 299,
   "id": "d277b1c4",
   "metadata": {},
   "outputs": [
    {
     "name": "stdout",
     "output_type": "stream",
     "text": [
      "Name:  miki\n",
      "Age  50\n",
      "sex  male\n",
      "Name:  miki\n",
      "Age  35\n",
      "sex  male\n"
     ]
    }
   ],
   "source": [
    "#调用函数时，默认参数的值如果没有传入，则被认为是默认值。下例会打印默认的age，如果age没有被传入：\n",
    "#但是需要注意一点的是：默认参数只能放在非默认参数后面，否则报错。\n",
    "def printinfo( name, sex, age = 35):\n",
    "    print(\"Name: \", name)\n",
    "    print(\"Age \", age)\n",
    "    print(\"sex \", sex)\n",
    "    return\n",
    " \n",
    "#调用printinfo函数\n",
    "printinfo( age=50, name=\"miki\",sex='male')\n",
    "printinfo(\"miki\", sex = 'male')"
   ]
  },
  {
   "cell_type": "markdown",
   "id": "9ae6e36a",
   "metadata": {},
   "source": [
    "### 不定长参数"
   ]
  },
  {
   "cell_type": "code",
   "execution_count": 300,
   "id": "42fec4cb",
   "metadata": {},
   "outputs": [],
   "source": [
    "#你可能需要一个函数能处理比当初声明时更多的参数。这些参数叫做不定长参数，和上述2种参数不同，声明时不会命名。基本语法如下：\n"
   ]
  },
  {
   "cell_type": "code",
   "execution_count": 303,
   "id": "e4818e65",
   "metadata": {},
   "outputs": [
    {
     "name": "stdout",
     "output_type": "stream",
     "text": [
      "1\n",
      "2\n",
      "(3, 4, 5)\n"
     ]
    }
   ],
   "source": [
    "#第一种形式的不定长参数，在传入额外的参数时可以不用指明参数名，直接传入参数值即可\n",
    "def funcA(a, b, *args):\n",
    "    print(a)\n",
    "    print(b)\n",
    "    print(args)\n",
    "\n",
    "funcA(1,2,3,4,5)\n",
    "\n",
    "#PS 可以看到，1 和 2 分别赋值给了 a 和 b，而剩下的参数则作为一个列表赋值给了 args"
   ]
  },
  {
   "cell_type": "code",
   "execution_count": 305,
   "id": "03ccd053",
   "metadata": {},
   "outputs": [
    {
     "name": "stdout",
     "output_type": "stream",
     "text": [
      "1\n",
      "2\n",
      "{'m': 3, 'j': 4, 'k': 5}\n"
     ]
    }
   ],
   "source": [
    "#第二种因为返回的是字典(定义时使用两个*)，所以传入时需要指定参数名，也就是必须采用关键字传参\n",
    "def funcB(a, b, **args):\n",
    "    print(a)\n",
    "    print(b)\n",
    "    print(args)\n",
    "    \n",
    "funcB(1,2,m = 3, j = 4, k = 5)"
   ]
  },
  {
   "cell_type": "markdown",
   "id": "a3aab542",
   "metadata": {},
   "source": [
    "[如果还是不太明白可以看着个博客，也作为一点拓展](https://www.cnblogs.com/beiluowuzheng/p/8463141.html)"
   ]
  },
  {
   "cell_type": "markdown",
   "id": "6e2cacce",
   "metadata": {},
   "source": [
    "# 7、文件操作 "
   ]
  },
  {
   "cell_type": "markdown",
   "id": "0068e757",
   "metadata": {},
   "source": [
    "一般来说，在做数据分析时，大多操作的是csv文件，不过一般来说，是读取到dataframe里面进行操作分析  \n",
    "\n",
    "关于dataframe有许多的知识点，具体在数据分析时再做讨论，如果单纯是关于CSV文件的操作，可以看如下博客\n",
    "[Python对CSV的读写](https://www.cnblogs.com/mayi0312/p/6840931.html)"
   ]
  },
  {
   "cell_type": "markdown",
   "id": "71161a66",
   "metadata": {},
   "source": [
    "PS: 高级部分后面会慢慢补充，学会以上部分，就可以尝试写基础的代码部分"
   ]
  },
  {
   "cell_type": "code",
   "execution_count": null,
   "id": "2392633f",
   "metadata": {},
   "outputs": [],
   "source": []
  }
 ],
 "metadata": {
  "kernelspec": {
   "display_name": "Python 3 (ipykernel)",
   "language": "python",
   "name": "python3"
  },
  "language_info": {
   "codemirror_mode": {
    "name": "ipython",
    "version": 3
   },
   "file_extension": ".py",
   "mimetype": "text/x-python",
   "name": "python",
   "nbconvert_exporter": "python",
   "pygments_lexer": "ipython3",
   "version": "3.9.6"
  }
 },
 "nbformat": 4,
 "nbformat_minor": 5
}
